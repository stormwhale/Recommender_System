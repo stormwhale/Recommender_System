{
  "cells": [
    {
      "cell_type": "markdown",
      "id": "f491bbaf",
      "metadata": {
        "id": "f491bbaf"
      },
      "source": [
        "### Project 4:\n",
        "\n",
        "Book rating recommendations\n",
        "\n",
        "**Source**:\n",
        "original url: https://github.com/caserec/Datasets-for-Recommender-Systems/tree/master/Processed%20Datasets/BookCrossing\n",
        "\n",
        "**Credit**:\n",
        "Book Crossing dataset were collected by Cai-Nicolas Ziegler in a 4-week crawl (August / September 2004) from the Book-Crossing community with kind permission from Ron Hornbaker, CTO of Humankind Systems."
      ]
    },
    {
      "cell_type": "code",
      "execution_count": 2,
      "id": "4dfa6c79",
      "metadata": {
        "id": "4dfa6c79"
      },
      "outputs": [
        {
          "name": "stderr",
          "output_type": "stream",
          "text": [
            "C:\\Users\\godly\\AppData\\Local\\Packages\\PythonSoftwareFoundation.Python.3.11_qbz5n2kfra8p0\\LocalCache\\local-packages\\Python311\\site-packages\\pyspark\\ml\\linalg\\__init__.py:80: UserWarning: A NumPy version >=1.23.5 and <2.3.0 is required for this version of SciPy (detected version 2.3.1)\n",
            "  import scipy.sparse\n"
          ]
        }
      ],
      "source": [
        "import pandas as pd\n",
        "from pyspark.sql import SparkSession\n",
        "from pyspark.sql import Row\n",
        "from pyspark.ml.recommendation import ALS\n",
        "from pyspark.sql.functions import col, log1p\n",
        "from pyspark.sql import functions as F\n",
        "from pyspark.ml.tuning import CrossValidator, ParamGridBuilder\n",
        "from pyspark.sql.functions import explode\n",
        "from pyspark.ml.evaluation import RegressionEvaluator\n",
        "from itertools import combinations\n",
        "from numpy.linalg import norm\n",
        "import urllib.request\n",
        "import numpy as np\n",
        "import matplotlib.pyplot as plt\n",
        "import seaborn as sns\n",
        "from scipy.sparse import csr_matrix\n",
        "from sklearn.model_selection import train_test_split\n",
        "from sklearn.metrics.pairwise import cosine_similarity\n",
        "from itertools import combinations\n"
      ]
    },
    {
      "cell_type": "markdown",
      "id": "d64b3ab6",
      "metadata": {
        "id": "d64b3ab6"
      },
      "source": [
        "Loading datasets:"
      ]
    },
    {
      "cell_type": "code",
      "execution_count": 3,
      "id": "9ec84b4b",
      "metadata": {
        "id": "9ec84b4b"
      },
      "outputs": [],
      "source": [
        "url = 'https://raw.githubusercontent.com/stormwhale/data-mines/refs/heads/main/book_rating.csv'\n",
        "url2 = 'https://github.com/stormwhale/data-mines/raw/refs/heads/main/book_names.csv'"
      ]
    },
    {
      "cell_type": "markdown",
      "id": "4a380f45",
      "metadata": {
        "id": "4a380f45"
      },
      "source": [
        "### Model 1: ALS in PySpark"
      ]
    },
    {
      "cell_type": "code",
      "execution_count": 4,
      "id": "d8ae27fa",
      "metadata": {
        "id": "d8ae27fa",
        "outputId": "329d2d43-3cda-4a21-cd0e-47cdfc1217de"
      },
      "outputs": [
        {
          "name": "stdout",
          "output_type": "stream",
          "text": [
            "+-------+-------+------+--------------------+\n",
            "|book_id|user_id|rating|           book_name|\n",
            "+-------+-------+------+--------------------+\n",
            "|   6264|      1|     7|Something Wicked ...|\n",
            "|   4350|      1|     7| The Mists of Avalon|\n",
            "|   6252|      1|     5|         Sacred Sins|\n",
            "|    202|      1|     9|What a Wonderful ...|\n",
            "|   6266|      1|     6|        A Coral Kiss|\n",
            "|   4810|      1|     5|To Marry McAllist...|\n",
            "|   6251|      1|     9|Love Always Remem...|\n",
            "|    160|      1|     9|The Subtle Knife ...|\n",
            "|    161|      1|     8|  Martian Chronicles|\n",
            "|    631|      1|    10|Just Here Trying ...|\n",
            "+-------+-------+------+--------------------+\n",
            "only showing top 10 rows\n",
            "[('book_id', 'int'), ('user_id', 'int'), ('rating', 'int'), ('book_name', 'string')]\n"
          ]
        }
      ],
      "source": [
        "#Configuring Spark session:\n",
        "spark = SparkSession.builder\\\n",
        "    .appName(\"ALS_recommender\")\\\n",
        "    .config('spark.driver.memory', '10g')\\\n",
        "    .config('spark.executor.memory', '10g')\\\n",
        "    .config('spark.sql.shuffle.partitions', '8')\\\n",
        "    .config(\"spark.driver.maxResultSize\", \"2g\") \\\n",
        "    .getOrCreate()\n",
        "\n",
        "#Download the csv files:\n",
        "urllib.request.urlretrieve(url, 'book_rating.csv')\n",
        "urllib.request.urlretrieve(url2, 'book_names.csv')\n",
        "\n",
        "#Read the csv into spark dataframe:\n",
        "sy_rating = spark.read.csv('book_rating.csv', header=True, inferSchema=True)\n",
        "sy_book_names = spark.read.csv('book_names.csv', header = True, inferSchema=True)\n",
        "\n",
        "#To rename the column names:\n",
        "sy_rating = sy_rating.withColumnRenamed('user', 'user_id').withColumnRenamed('item', 'book_id')\n",
        "sy_book_names = sy_book_names.withColumnRenamed('Book_ID', 'book_id'). withColumnRenamed('Book-Title', 'book_name')\n",
        "sy_book_names = sy_book_names.select('book_id', 'book_name')\n",
        "\n",
        "#To combine the two dataframes:\n",
        "sy_combined = sy_rating.join(sy_book_names, on='book_id', how='left')\n",
        "\n",
        "#Checking the schema:\n",
        "sy_combined.show(10)\n",
        "print(sy_combined.dtypes)"
      ]
    },
    {
      "cell_type": "markdown",
      "id": "af3890f7",
      "metadata": {
        "id": "af3890f7"
      },
      "source": [
        "### Train Test Split:"
      ]
    },
    {
      "cell_type": "code",
      "execution_count": 5,
      "id": "c19dc6ca",
      "metadata": {
        "id": "c19dc6ca",
        "outputId": "11e7a0f1-903e-43aa-f56f-31c38395ec69"
      },
      "outputs": [
        {
          "name": "stdout",
          "output_type": "stream",
          "text": [
            "Total number of data in training: 50015\n",
            "Total number of data in test: 12641\n"
          ]
        }
      ],
      "source": [
        "train, test = sy_combined.randomSplit([0.8, 0.2], seed=41)\n",
        "\n",
        "print(f'Total number of data in training: {train.count()}')\n",
        "print(f'Total number of data in test: {test.count()}')"
      ]
    },
    {
      "cell_type": "markdown",
      "id": "2d5f6e15",
      "metadata": {
        "id": "2d5f6e15"
      },
      "source": [
        "### ALS Model tuning and building:"
      ]
    },
    {
      "cell_type": "code",
      "execution_count": 6,
      "id": "1ce3068e",
      "metadata": {
        "id": "1ce3068e",
        "outputId": "b6cb5b58-2596-4679-883e-d386ff6e8ef3"
      },
      "outputs": [
        {
          "name": "stdout",
          "output_type": "stream",
          "text": [
            "Best ALS model parameters:\n",
            "Rank: 15\n",
            "regParam : 0.5\n",
            "maxIter : 10\n"
          ]
        }
      ],
      "source": [
        "als = ALS(\n",
        "    userCol='user_id',\n",
        "    itemCol='book_id',\n",
        "    ratingCol='rating',\n",
        "    coldStartStrategy='drop',\n",
        "    implicitPrefs=False,\n",
        "    nonnegative=True,\n",
        "    seed=42\n",
        ")\n",
        "\n",
        "#parameters for tuning:\n",
        "'''\n",
        "ALS is a matrix factorization algorithm that can be used for collaborative filtering and works well when pairing up with Spark, which handles data using in-memory retrieval.\n",
        "ALS breaks the user-item matrices (R) into two smaller matrices, U (user factors) and V (item factors).\n",
        "Then the ALS algorithm alternates between fixing V to solve for U and U to solve for V until the product UVt predicts the known ratings in R as closely as possible.\n",
        "\n",
        "maxIter controls how many iterations that the ALS will alternate when finding the least error.\n",
        "rank is the number of latent factors (hidden features) that the model will learn.\n",
        "regParam is the regularization parameter to help prevent overfitting.\n",
        "'''\n",
        "param_grid = ParamGridBuilder()\\\n",
        "    .addGrid(als.maxIter, [5,10])\\\n",
        "    .addGrid(als.rank, [10,15, 20])\\\n",
        "    .addGrid(als.regParam, [0.01, 0.1, 0.5])\\\n",
        "    .build()\n",
        "\n",
        "#Defining the evaluators:\n",
        "rmse_evaluator = RegressionEvaluator(\n",
        "    metricName='rmse',\n",
        "    labelCol='rating',\n",
        "    predictionCol='prediction'\n",
        ")\n",
        "\n",
        "mae_evaluator = RegressionEvaluator(\n",
        "    metricName='mae',\n",
        "    labelCol='rating',\n",
        "    predictionCol='prediction'\n",
        ")\n",
        "\n",
        "#Set up cross-validation:\n",
        "cv = CrossValidator(\n",
        "    estimator = als,\n",
        "    estimatorParamMaps = param_grid,\n",
        "    evaluator = rmse_evaluator,\n",
        "    numFolds = 3\n",
        ")\n",
        "\n",
        "#Fitting the model:\n",
        "cv_model = cv.fit(train)\n",
        "best_model = cv_model.bestModel\n",
        "\n",
        "#Generating predictions:\n",
        "predictions = best_model.transform(test)\n",
        "\n",
        "print(\"Best ALS model parameters:\")\n",
        "print(f'Rank: {best_model.rank}')\n",
        "print(f\"regParam : {best_model._java_obj.parent().getRegParam()}\")\n",
        "print(f\"maxIter : {best_model._java_obj.parent().getMaxIter()}\")"
      ]
    },
    {
      "cell_type": "markdown",
      "id": "5ef92933",
      "metadata": {
        "id": "5ef92933"
      },
      "source": [
        "Checking the RMSE and MAE:"
      ]
    },
    {
      "cell_type": "code",
      "execution_count": 7,
      "id": "6434b51f",
      "metadata": {
        "id": "6434b51f",
        "outputId": "cc20d833-0995-4276-bed1-254b22e50ddf"
      },
      "outputs": [
        {
          "name": "stdout",
          "output_type": "stream",
          "text": [
            "ALS model RMSE = 1.7956087134537673\n",
            "ALS model MAE = 1.4172875640303955\n"
          ]
        }
      ],
      "source": [
        "print(f'ALS model RMSE = {rmse_evaluator.evaluate(best_model.transform(test))}')\n",
        "print(f'ALS model MAE = {mae_evaluator.evaluate(best_model.transform(test))}')"
      ]
    },
    {
      "cell_type": "markdown",
      "id": "50006b1b",
      "metadata": {
        "id": "50006b1b"
      },
      "source": [
        "### To make a top 5 recommendation for a specific user:"
      ]
    },
    {
      "cell_type": "code",
      "execution_count": 8,
      "id": "f3cec09d",
      "metadata": {
        "id": "f3cec09d"
      },
      "outputs": [],
      "source": [
        "#First we have to make a top 5 recommendation for each user:\n",
        "#let's create a user-item matrix with all possible user-item pairs:\n",
        "user = train.select('user_id').distinct()\n",
        "item = train.select('book_id').distinct()\n",
        "user_item = user.crossJoin(item)\n",
        "\n",
        "#Predicting for all user-item pairs:\n",
        "pred_mtx = best_model.transform(user_item)\n",
        "\n",
        "#Exclude the books that the user has already rated:\n",
        "rated_books_test = test.select('user_id', 'book_id').distinct()\n",
        "rated_books_all = train.select('user_id', 'book_id').union(rated_books_test).distinct()\n",
        "pred_mtx_unrated = pred_mtx.join(rated_books_all, on=['user_id', 'book_id'], how = 'left_anti') #This creates a prediction matrix that is unrated by all users."
      ]
    },
    {
      "cell_type": "code",
      "execution_count": 9,
      "id": "2ea4e718",
      "metadata": {
        "id": "2ea4e718",
        "outputId": "a3fd2761-f649-4e17-8419-56d8a9eb8e78"
      },
      "outputs": [
        {
          "name": "stdout",
          "output_type": "stream",
          "text": [
            "+-------+-------+----------+--------------------+\n",
            "|book_id|user_id|prediction|           book_name|\n",
            "+-------+-------+----------+--------------------+\n",
            "|   1154|      5| 10.581838|The Aguero Sister...|\n",
            "|  12904|      5| 10.449394|          Cool Shade|\n",
            "|  15412|      5| 10.356695|The Bridge Across...|\n",
            "|  10007|      5| 10.312478|1421 : The Year C...|\n",
            "|  15537|      5| 10.279439|  The King Of Dreams|\n",
            "+-------+-------+----------+--------------------+\n",
            "\n",
            "None\n"
          ]
        }
      ],
      "source": [
        "#Generate top-5 recommendations for a specific user:\n",
        "#Define user ID\n",
        "user_id = 5\n",
        "\n",
        "top_5_for_user = pred_mtx_unrated.filter(col('user_id') == user_id).orderBy('prediction', ascending=False).limit(5)\n",
        "#We will also extract the book_id numbers from the top 5 recommendations for later use.\n",
        "top_5_ids = [row['book_id'] for row in top_5_for_user.select('book_id').collect()]\n",
        "\n",
        "#To map the book_ids to book names:\n",
        "top_5_books_names = top_5_for_user.join(sy_book_names, on='book_id', how='left')\n",
        "print(top_5_books_names.show())"
      ]
    },
    {
      "cell_type": "markdown",
      "id": "d05bef32",
      "metadata": {
        "id": "d05bef32"
      },
      "source": [
        "Interestingly, when using ALS to generate rating predictions, the predicted ratings may or may not confind in the original rating scale as shown above. \n",
        "\n",
        "**This happens because ALS only focuses on solving the least square error without considering there is a boundary in the rating.**\n",
        "\n",
        "The predicted ratings are not incorrect but can be viewed as a ranking of the items instead--The higher the prediction rating, the more likely the user will enjoy the item.\n",
        "\n",
        "There are several ways to get around this out-of-bound issue:\n",
        "\n",
        "1) First we can set a limit on the prediction rating such that any rating above 10 is set to 10. However, this will create a lot of tied results.\n",
        "\n",
        "2) Second, we can normalize the rating so that the ratings are centered around the average and becomes in-bound, but the rating will become less meaningful in the scale of 1-10.\n",
        "\n",
        "3) Ignored the out-of-bound rating and consider only the ranking of the items as shown by their respecitve predicted scores. Although the number of ratings might become less meaningful, the core concept stays the same--users are being recommended by their most likely favored items.\n",
        "\n",
        "In this model, we chose option 3 since we care only about the quality of the recommended produces."
      ]
    },
    {
      "cell_type": "markdown",
      "id": "3e7f117c",
      "metadata": {
        "id": "3e7f117c"
      },
      "source": [
        "### Computing novelty, diversity, and serendipity scores:"
      ]
    },
    {
      "cell_type": "markdown",
      "id": "1b3744e5",
      "metadata": {},
      "source": [
        "#### Novelty score:"
      ]
    },
    {
      "cell_type": "code",
      "execution_count": 10,
      "id": "a140b6da",
      "metadata": {
        "id": "a140b6da",
        "outputId": "e49ca36e-8b89-4f08-c8f9-292bc7466e43"
      },
      "outputs": [
        {
          "name": "stdout",
          "output_type": "stream",
          "text": [
            "Novelty score with fraction normalization: 0.984\n",
            "Novelty score with log transformation normalization: 0.774\n"
          ]
        }
      ],
      "source": [
        "#Novelty scores:\n",
        "\n",
        "#Calculate book popularity:\n",
        "book_popularity = train.groupBy('book_id').count().filter(col('count')>1) #Selects the books that have been rated more than once.\n",
        "max_count = book_popularity.agg(F.max('count')).collect()[0][0] #Get the max number of ratings for a book.\n",
        "\n",
        "#In here we are normalizing the popularity scores in two ways:\n",
        "book_popularity = book_popularity.withColumn('popularity_norm', col('count')/ F.lit(max_count))#Creates a normalized popularity column\n",
        "book_popularity = book_popularity.withColumn('popularity_norm_log', log1p(col('count'))/ log1p(F.lit(max_count))) #Applying log transofmation to help center the distribution.\n",
        "\n",
        "#Compute the novelty score for the top 5 recommendations:\n",
        "top_5_popularity = book_popularity.filter(col('book_id').isin(top_5_ids)).select('popularity_norm_log', 'popularity_norm').collect() #Get the popularity of the top 5 books.\n",
        "novelty = np.mean([1 - row['popularity_norm'] for row in top_5_popularity])\n",
        "novelty_log = np.mean([1 - row['popularity_norm_log'] for row in top_5_popularity])\n",
        "\n",
        "print(f'Novelty score with fraction normalization: {novelty:.3f}')\n",
        "print(f'Novelty score with log transformation normalization: {novelty_log:.3f}')"
      ]
    },
    {
      "cell_type": "markdown",
      "id": "4defa781",
      "metadata": {
        "id": "4defa781"
      },
      "source": [
        "Plotting the distribution of the normalized scores:"
      ]
    },
    {
      "cell_type": "code",
      "execution_count": 11,
      "id": "2793ae2e",
      "metadata": {
        "id": "2793ae2e",
        "outputId": "9e1d668a-a190-40a3-e594-dda6d1609c40"
      },
      "outputs": [
        {
          "data": {
            "image/png": "[encoded data removed]",
            "text/plain": [
              "<Figure size 640x480 with 1 Axes>"
            ]
          },
          "metadata": {},
          "output_type": "display_data"
        }
      ],
      "source": [
        "pop_val = [(row['popularity_norm'] for row in book_popularity.select('popularity_norm').collect())]\n",
        "pop_val_log = [row['popularity_norm_log'] for row in book_popularity.select('popularity_norm_log').collect()]\n",
        "\n",
        "sns.histplot(pop_val, bins=13, label='Normalized Popularity Scores', color='blue')\n",
        "sns.histplot(pop_val_log, bins=10, label='Log Transformed Normalized Popularity Scores', color='orange')\n",
        "plt.legend()\n",
        "plt.grid()"
      ]
    },
    {
      "cell_type": "markdown",
      "id": "d62af18a",
      "metadata": {
        "id": "d62af18a"
      },
      "source": [
        "Here the novelty score was computed using the log transformed normalization because the fractional normalization might not be an accuracy estimation due to how skewed the normalized ratings are. This could be due to how some of the books are being rated 2 times or even 10 times more than most of the other books. Log transformation reduces the gap between these difference better and thus giving a more realistic estimation on novelty on the ALS model.\n",
        "\n",
        "In this ALS model, the novelty score is relatively high when compared to other metrics, indicating that this model recommends books that are mostly unpopular to the users."
      ]
    },
    {
      "cell_type": "markdown",
      "id": "60c6ae84",
      "metadata": {
        "id": "60c6ae84"
      },
      "source": [
        "#### Diversity score:"
      ]
    },
    {
      "cell_type": "code",
      "execution_count": 12,
      "id": "b341685c",
      "metadata": {
        "id": "b341685c"
      },
      "outputs": [],
      "source": [
        "top_5_item_factors = best_model.itemFactors.filter(col('id').isin(top_5_ids)).collect() #Get the item factors for the top 5 books.\n",
        "\n",
        "#convert to a list of (book_id, vector)\n",
        "book_vec = [(row['id'], row['features']) for row in top_5_item_factors]\n",
        "\n",
        "def cosine_similarity_cus(v1, v2):\n",
        "    v1, v2 = np.array(v1), np.array(v2)\n",
        "    return np.dot(v1, v2) / (np.linalg.norm(v1) * np.linalg.norm(v2))\n",
        "\n",
        "# Compute average similarity between all item pairs\n",
        "similarities = []\n",
        "for (id1, vec1), (id2, vec2) in combinations(book_vec, 2):\n",
        "    sim = cosine_similarity_cus(vec1, vec2)\n",
        "    similarities.append(sim)\n",
        "\n",
        "avg_similarity = np.mean(similarities)\n",
        "diversity_score_1 = 1 - avg_similarity\n"
      ]
    },
    {
      "cell_type": "markdown",
      "id": "7e6f446b",
      "metadata": {},
      "source": [
        "#### Serendipity score"
      ]
    },
    {
      "cell_type": "code",
      "execution_count": 13,
      "id": "c705f2e2",
      "metadata": {
        "id": "c705f2e2",
        "outputId": "98085716-4af4-432e-e34a-1bca057e0a38"
      },
      "outputs": [
        {
          "name": "stdout",
          "output_type": "stream",
          "text": [
            "Serendipity score: 0.0930\n",
            "Diversity score : 0.1107\n",
            "Novelty score with log transformation normalization: 0.774\n"
          ]
        }
      ],
      "source": [
        "#Find out items that the user has liked before (rated at least a 5 and above):\n",
        "liked_items = train.filter((col('user_id') == user_id) & (col('rating') > 4)).select('book_id').collect()\n",
        "liked_items_id = [row['book_id'] for row in liked_items] #Extract the book_id numbers from the liked items.\n",
        "\n",
        "#Extract the item factors for the liked items:\n",
        "liked_factors = best_model.itemFactors.filter(col('id').isin(liked_items_id)).collect() #Get the item factors for the liked items.\n",
        "liked_vecs = [np.array(row['features']) for row in liked_factors] #Extracts the features from the liked items.\n",
        "\n",
        "#compute cosine similarity between liked items and top 5 recommendations:\n",
        "#average(1 - similarity) between top-5 and liked items\n",
        "similarity = []\n",
        "\n",
        "for rec_id, rec_vec in book_vec:\n",
        "    rec_vec = np.array(rec_vec)\n",
        "    \n",
        "    for liked_vec in liked_vecs:\n",
        "        #let's do cosine similarity:\n",
        "        sim = cosine_similarity_cus(rec_vec, liked_vec) #computing two latent factor arrays\n",
        "        similarity.append(1 - np.mean(sim)) #1 - similarity gives us the dissimilarity\n",
        "\n",
        "\n",
        "serendipity_score_1 = np.mean(similarity)\n",
        "\n",
        "print(f'Serendipity score: {serendipity_score_1:.4f}')\n",
        "print(f\"Diversity score : {diversity_score_1:.4f}\")\n",
        "print(f'Novelty score with log transformation normalization: {novelty_log:.3f}')"
      ]
    },
    {
      "cell_type": "markdown",
      "id": "b849c6bf",
      "metadata": {
        "id": "b849c6bf"
      },
      "source": [
        "Since this ALS model does not offer too much of diversity and serendipity and keep recommending very similar items as shown by the low diversity score and high novelty score, we will try to compute the rating scores with a weighted approach to increase the diversity in recommending the books."
      ]
    },
    {
      "cell_type": "code",
      "execution_count": 26,
      "id": "6f34c784",
      "metadata": {
        "id": "6f34c784"
      },
      "outputs": [
        {
          "data": {
            "text/html": [
              "<div>\n",
              "<style scoped>\n",
              "    .dataframe tbody tr th:only-of-type {\n",
              "        vertical-align: middle;\n",
              "    }\n",
              "\n",
              "    .dataframe tbody tr th {\n",
              "        vertical-align: top;\n",
              "    }\n",
              "\n",
              "    .dataframe thead th {\n",
              "        text-align: right;\n",
              "    }\n",
              "</style>\n",
              "<table border=\"1\" class=\"dataframe\">\n",
              "  <thead>\n",
              "    <tr style=\"text-align: right;\">\n",
              "      <th></th>\n",
              "      <th>user_id</th>\n",
              "      <th>book_id</th>\n",
              "      <th>prediction</th>\n",
              "      <th>features</th>\n",
              "      <th>serendipity</th>\n",
              "      <th>diversity</th>\n",
              "    </tr>\n",
              "  </thead>\n",
              "  <tbody>\n",
              "    <tr>\n",
              "      <th>0</th>\n",
              "      <td>5</td>\n",
              "      <td>70</td>\n",
              "      <td>6.754381</td>\n",
              "      <td>[0.27637621760368347, 0.19430243968963623, 0.9...</td>\n",
              "      <td>0.109121</td>\n",
              "      <td>0.135654</td>\n",
              "    </tr>\n",
              "    <tr>\n",
              "      <th>1</th>\n",
              "      <td>5</td>\n",
              "      <td>190</td>\n",
              "      <td>5.908891</td>\n",
              "      <td>[0.8992729187011719, 0.0, 1.0751075744628906, ...</td>\n",
              "      <td>0.226464</td>\n",
              "      <td>0.249618</td>\n",
              "    </tr>\n",
              "    <tr>\n",
              "      <th>2</th>\n",
              "      <td>5</td>\n",
              "      <td>203</td>\n",
              "      <td>7.301134</td>\n",
              "      <td>[0.6150208115577698, 0.4731602072715759, 1.020...</td>\n",
              "      <td>0.063488</td>\n",
              "      <td>0.082773</td>\n",
              "    </tr>\n",
              "  </tbody>\n",
              "</table>\n",
              "</div>"
            ],
            "text/plain": [
              "   user_id  book_id  prediction  \\\n",
              "0        5       70    6.754381   \n",
              "1        5      190    5.908891   \n",
              "2        5      203    7.301134   \n",
              "\n",
              "                                            features  serendipity  diversity  \n",
              "0  [0.27637621760368347, 0.19430243968963623, 0.9...     0.109121   0.135654  \n",
              "1  [0.8992729187011719, 0.0, 1.0751075744628906, ...     0.226464   0.249618  \n",
              "2  [0.6150208115577698, 0.4731602072715759, 1.020...     0.063488   0.082773  "
            ]
          },
          "execution_count": 26,
          "metadata": {},
          "output_type": "execute_result"
        }
      ],
      "source": [
        "#Our target user is still defined as user_id = 5\n",
        "#Let's get items that user_id = 5 has not rated\n",
        "user_unrated = pred_mtx_unrated.filter(col('user_id') == user_id)\n",
        "\n",
        "#Get the latent factors for the unrated\n",
        "user_unrated_pd = user_unrated.join(\n",
        "    best_model.itemFactors,\n",
        "    user_unrated.book_id == best_model.itemFactors.id,\n",
        ").select('user_id', 'book_id', 'prediction', 'features').toPandas()\n",
        "\n",
        "#We will transition to Pandas and Numpy to compute serendipity:\n",
        "liked_vecs_np = np.array(liked_vecs)\n",
        "\n",
        "def serendipity_score(vec, liked_vecs):\n",
        "    if vec is None or len(vec) == 0:\n",
        "        return 1.0\n",
        "    sims = []\n",
        "    for liked_vec in liked_vecs:\n",
        "        sim = cosine_similarity_cus(vec, liked_vec)\n",
        "        sims.append(1 - sim)\n",
        "    return np.mean(sims) if sim else 1.0\n",
        "\n",
        "def diversity_score(vec, candidates_vecs):\n",
        "    sims = []\n",
        "    for cand_vec in candidates_vecs:\n",
        "        sims.append(1 - cosine_similarity_cus(vec, cand_vec))\n",
        "    return np.mean(sims) if sims else 1.0\n",
        "\n",
        "top_vectors = [vec for _, vec in book_vec]\n",
        "\n",
        "user_unrated_pd['serendipity'] = user_unrated_pd['features'].apply(lambda x: serendipity_score(x, liked_vecs_np))\n",
        "user_unrated_pd['diversity'] = user_unrated_pd['features'].apply(lambda x: diversity_score(x, top_vectors))\n",
        "\n",
        "user_unrated_pd.head(3)\n"
      ]
    },
    {
      "cell_type": "markdown",
      "id": "1b0b302f",
      "metadata": {
        "id": "1b0b302f"
      },
      "source": [
        "Applying the adjusted scores:"
      ]
    },
    {
      "cell_type": "code",
      "execution_count": 15,
      "id": "53fc0539",
      "metadata": {
        "id": "53fc0539",
        "outputId": "b7e72c99-071f-492a-8e3b-7ebeb13cd5d0"
      },
      "outputs": [
        {
          "name": "stdout",
          "output_type": "stream",
          "text": [
            "Top 5 reranked recommendations for user_id = 5:       book_id  adjusted_score\n",
            "466      1154        5.329203\n",
            "3873    12904        5.291413\n",
            "5644    15412        5.214211\n",
            "7064    10007        5.207173\n",
            "4521    15537        5.178142\n"
          ]
        }
      ],
      "source": [
        "#In here, alpha = prediction weights, beta = serendipity weights, gamma = diversity weights\n",
        "#We can adjust these weights based on the importance we want to give to each factor.\n",
        "alpha, beta, gamma = 0.5, 0.4, 0.1\n",
        "user_unrated_pd['adjusted_score'] = (\n",
        "    user_unrated_pd['prediction'] * alpha +\n",
        "    user_unrated_pd['serendipity'] * beta +\n",
        "    user_unrated_pd['diversity'] * gamma\n",
        ")\n",
        "\n",
        "top_5_reranked = user_unrated_pd.nlargest(5, 'adjusted_score')\n",
        "print(f\"Top 5 reranked recommendations for user_id = 5: {top_5_reranked[['book_id', 'adjusted_score']]}\")"
      ]
    },
    {
      "cell_type": "markdown",
      "id": "c461dcfb",
      "metadata": {
        "id": "c461dcfb"
      },
      "source": [
        "Re-calculating the Novelty, diversity, and serendipity scores:\n"
      ]
    },
    {
      "cell_type": "code",
      "execution_count": 16,
      "id": "a8848080",
      "metadata": {
        "id": "a8848080",
        "outputId": "67774b18-14aa-4b80-ab66-e1cbe9ec83e9"
      },
      "outputs": [
        {
          "name": "stdout",
          "output_type": "stream",
          "text": [
            "re-ranked diversity score: 0.1107\n",
            "re-ranked serendipity score: 0.0930\n",
            "Raw Diversity score: 0.1107\n",
            "Raw Serendipity score: 0.0930\n"
          ]
        }
      ],
      "source": [
        "topN_id = [np.int32(x) for x in top_5_reranked['book_id'].tolist()]\n",
        "topN_vec = top_5_reranked['features'].tolist()\n",
        "\n",
        "#Novelty score:\n",
        "#We need to re-compute the book popularity to exclude extremely rare books.\n",
        "book_popularity = train.groupBy('book_id').count()\n",
        "max_count = book_popularity.agg(F.max('count')).collect()[0][0] #Get the max number of ratings for a book.\n",
        "#In here we are normalizing the popularity scores in two ways:\n",
        "book_popularity = book_popularity.withColumn('popularity_norm', col('count')/ F.lit(max_count))#Creates a normalized popularity column\n",
        "book_popularity = book_popularity.withColumn('popularity_norm_log', log1p(col('count'))/ log1p(F.lit(max_count))) #Applying log transofmation to help center the distribution.\n",
        "\n",
        "pop_df = book_popularity.toPandas()\n",
        "topN_pop = pop_df[pop_df['book_id'].isin(topN_id)]\n",
        "\n",
        "novelty_fraction = np.mean(1 - topN_pop['popularity_norm'])\n",
        "novelty_log = np.mean(1 - topN_pop['popularity_norm_log'])\n",
        "\n",
        "\n",
        "#Compute diversity score:\n",
        "def compute_diversity(vectors):\n",
        "    if len(vectors) < 2:\n",
        "        return 1.0\n",
        "    sims = [\n",
        "        cosine_similarity_cus(v1, v2)\n",
        "        for v1, v2 in combinations(vectors, 2)\n",
        "    ]\n",
        "    return 1 - np.mean(sims)\n",
        "\n",
        "re_ranked_diversity_score = compute_diversity(topN_vec)\n",
        "\n",
        "#Compute serendipity score:\n",
        "def compute_serendipity(vectors, liked_vecs):\n",
        "    serendipity_scores = []\n",
        "    for vec in vectors:\n",
        "        sims = [\n",
        "            1 - cosine_similarity_cus(vec, liked_vec)\n",
        "            for liked_vec in liked_vecs\n",
        "        ]\n",
        "        serendipity_scores.append(np.mean(sims))\n",
        "    return np.mean(serendipity_scores)\n",
        "\n",
        "re_ranked_serendipity_score = compute_serendipity(topN_vec, liked_vecs_np)\n",
        "\n",
        "serendipity = compute_serendipity(topN_vec, liked_vecs_np)\n",
        "print(f\"re-ranked diversity score: {re_ranked_diversity_score:.4f}\")\n",
        "print(f\"re-ranked serendipity score: {re_ranked_serendipity_score:.4f}\")\n",
        "print(f\"Raw Diversity score: {diversity_score_1:.4f}\")\n",
        "print(f'Raw Serendipity score: {serendipity_score_1:.4f}')"
      ]
    },
    {
      "cell_type": "markdown",
      "id": "954f6e4c",
      "metadata": {
        "id": "954f6e4c"
      },
      "source": [
        "By adjusting the diversity factor, we were able to increase the diversity score by a little without sacrificing user satistifcation. However, this adjustment seems to be very minimal considering there must be a balance between user satistifcation, diversity, and serendipity."
      ]
    },
    {
      "cell_type": "markdown",
      "id": "c3536f10",
      "metadata": {
        "id": "c3536f10"
      },
      "source": [
        "### Model 2: truncated SVD"
      ]
    },
    {
      "cell_type": "code",
      "execution_count": 17,
      "id": "f696cd75",
      "metadata": {
        "id": "f696cd75"
      },
      "outputs": [],
      "source": [
        "from sklearn.decomposition import TruncatedSVD\n",
        "from scipy.sparse import csr_matrix\n",
        "from scipy.sparse.linalg import svds\n",
        "from sklearn.model_selection import train_test_split\n",
        "from sklearn.metrics.pairwise import cosine_similarity\n",
        "from sklearn.metrics import mean_squared_error\n",
        "import seaborn as sns\n",
        "import matplotlib.pyplot as plt\n",
        "import pandas as pd\n",
        "import numpy as np"
      ]
    },
    {
      "cell_type": "markdown",
      "id": "cabb89b6",
      "metadata": {
        "id": "cabb89b6"
      },
      "source": [
        "Creating an empty matrix to store the predictions:"
      ]
    },
    {
      "cell_type": "code",
      "execution_count": 18,
      "id": "2e55fef5",
      "metadata": {
        "id": "2e55fef5"
      },
      "outputs": [],
      "source": [
        "url = 'https://raw.githubusercontent.com/stormwhale/data-mines/refs/heads/main/book_rating.csv'\n",
        "url2 = 'https://github.com/stormwhale/data-mines/raw/refs/heads/main/book_names.csv'\n",
        "#Read the csv files:\n",
        "rating = pd.read_csv(url, header='infer')\n",
        "book_names = pd.read_csv(url2, header='infer', encoding='latin1')\n",
        "\n",
        "#Renaming the column names:\n",
        "rating.rename(columns={'user': 'user_id', 'item': 'book_id'}, inplace=True)\n",
        "book_names = book_names.iloc[:,[0,2]]\n",
        "book_names.rename(columns={'Book_ID': 'book_id', 'Book-Title': 'book_name'}, inplace=True)\n",
        "\n",
        "#Merging the two into one dataframe:\n",
        "df_com = pd.merge(rating, book_names, on='book_id', how='left')\n",
        "\n",
        "# Map user/item IDs to continuous indices\n",
        "user_ids = df_com[\"user_id\"].unique()\n",
        "item_ids = df_com[\"book_id\"].unique()\n",
        "user_map = {user: idx for idx, user in enumerate(user_ids)}\n",
        "item_map = {item: idx for idx, item in enumerate(item_ids)}\n",
        "df_com[\"user_idx\"] = df_com[\"user_id\"].map(user_map)\n",
        "df_com[\"book_idx\"] = df_com[\"book_id\"].map(item_map)\n",
        "\n",
        "num_users = len(user_ids)\n",
        "num_items = len(item_ids)\n",
        "\n",
        "#Add the normalized rating:\n",
        "user_avg = df_com.groupby('user_id')['rating'].mean().reset_index()\n",
        "#Add the user_avg_rating:\n",
        "df_com['user_avg_rating'] = df_com['user_id'].map(user_avg.set_index('user_id')['rating'])\n",
        "df_com['normalized_rating'] = df_com['rating'] - df_com['user_id'].map(user_avg.set_index('user_id')['rating'])"
      ]
    },
    {
      "cell_type": "markdown",
      "id": "fe21670d",
      "metadata": {
        "id": "fe21670d"
      },
      "source": [
        "### Visualize the rating distribution:"
      ]
    },
    {
      "cell_type": "code",
      "execution_count": 19,
      "id": "bff4dcc7",
      "metadata": {
        "colab": {
          "base_uri": "https://localhost:8080/",
          "height": 468
        },
        "id": "bff4dcc7",
        "outputId": "21568558-23a7-4cfb-cdbc-1bd6dba7f529"
      },
      "outputs": [
        {
          "data": {
            "text/plain": [
              "<matplotlib.legend.Legend at 0x269472e4410>"
            ]
          },
          "execution_count": 19,
          "metadata": {},
          "output_type": "execute_result"
        },
        {
          "data": {
            "image/png": "[encoded data removed]",
            "text/plain": [
              "<Figure size 640x480 with 1 Axes>"
            ]
          },
          "metadata": {},
          "output_type": "display_data"
        }
      ],
      "source": [
        "sns.histplot(df_com['normalized_rating'], bins=20, label='Normalized Rating Distribution', color='orange')\n",
        "sns.histplot(df_com['rating'], bins=10, label='Original Rating Distribution', color='blue')\n",
        "plt.legend()"
      ]
    },
    {
      "cell_type": "markdown",
      "id": "f6f4ab28",
      "metadata": {
        "id": "f6f4ab28"
      },
      "source": [
        "### Train-test-split the data"
      ]
    },
    {
      "cell_type": "code",
      "execution_count": 20,
      "id": "127ec3fd",
      "metadata": {
        "colab": {
          "base_uri": "https://localhost:8080/"
        },
        "id": "127ec3fd",
        "outputId": "66a0b188-6210-4e9c-d357-99f8cd69b379"
      },
      "outputs": [
        {
          "name": "stdout",
          "output_type": "stream",
          "text": [
            "Total number of data in training: 50124\n",
            "Total number of data in test: 12532\n"
          ]
        }
      ],
      "source": [
        "train_svd, test_svd = train_test_split(df_com, test_size=0.2, random_state=42)\n",
        "print(f'Total number of data in training: {train_svd.shape[0]}')\n",
        "print(f'Total number of data in test: {test_svd.shape[0]}')\n",
        "\n",
        "#To create a dense matrix for the training data:\n",
        "train_row = train_svd['user_idx'].values\n",
        "train_col = train_svd['book_idx'].values"
      ]
    },
    {
      "cell_type": "code",
      "execution_count": 21,
      "id": "bec444cb",
      "metadata": {
        "colab": {
          "base_uri": "https://localhost:8080/",
          "height": 509
        },
        "id": "bec444cb",
        "outputId": "67b66387-26c5-4c73-f2f1-cfdfa1de528b"
      },
      "outputs": [
        {
          "name": "stdout",
          "output_type": "stream",
          "text": [
            "Shape of the training matrix: (1295, 14684)\n",
            "Best k: 165, Minmial RMSE: 1.4692\n",
            "Minmial MAE: 1.1064\n"
          ]
        },
        {
          "data": {
            "image/png": "[encoded data removed]",
            "text/plain": [
              "<Figure size 640x480 with 1 Axes>"
            ]
          },
          "metadata": {},
          "output_type": "display_data"
        }
      ],
      "source": [
        "csr_train = csr_matrix((train_svd['normalized_rating'], (train_row, train_col)), shape=(num_users, num_items))\n",
        "print(f\"Shape of the training matrix: {csr_train.shape}\")\n",
        "\n",
        "#define the svd function:\n",
        "def svd_decomp(csr_matrix, k):\n",
        "\n",
        "    u_train, s_train, vt_train = svds(csr_matrix, k=k)\n",
        "\n",
        "    #To reverse the array orders:\n",
        "    u_train = u_train[:, ::-1]\n",
        "    s_train = np.diag(s_train[::-1])\n",
        "    vt_train = vt_train[::-1, :]\n",
        "\n",
        "    return u_train, s_train, vt_train\n",
        "\n",
        "#Tuning the k value:\n",
        "k_train_values = []\n",
        "rmse_train_values = []\n",
        "mae_train_values = []\n",
        "for k in range(5, 600, 20):\n",
        "    csr_recon = svd_decomp(csr_train, k)\n",
        "    csr_recon = np.dot(np.dot(csr_recon[0], csr_recon[1]), csr_recon[2])\n",
        "\n",
        "    #predictions:\n",
        "    pred_score = csr_recon[test_svd['user_idx'].values, test_svd['book_idx'].values]\n",
        "\n",
        "    #Ground truth ratings:\n",
        "    tru_ratings = test_svd['normalized_rating'].values\n",
        "\n",
        "    #calculate RMSE and MAE\n",
        "    svd_rmse = np.sqrt(mean_squared_error(tru_ratings, pred_score))\n",
        "    svd_mae = np.mean(np.abs(tru_ratings - pred_score))\n",
        "\n",
        "    k_train_values.append(k)\n",
        "    rmse_train_values.append(svd_rmse)\n",
        "    mae_train_values.append(svd_mae)\n",
        "\n",
        "#Find the best k and the minmal RMSE and mae:\n",
        "min_rmse = min(rmse_train_values)\n",
        "min_mae = min(mae_train_values)\n",
        "best_k_idx = rmse_train_values.index(min_rmse)\n",
        "best_k = k_train_values[best_k_idx]\n",
        "print(f'Best k: {best_k}, Minmial RMSE: {min_rmse:.4f}')\n",
        "print(f'Minmial MAE: {min_mae:.4f}')\n",
        "\n",
        "#Plot the RMSE values against k values:\n",
        "sns.lineplot(x=k_train_values, y=rmse_train_values)\n",
        "plt.xlabel('k values')\n",
        "plt.ylabel('RMSE')\n",
        "plt.title('RMSE vs k values')\n",
        "plt.grid(True)\n"
      ]
    },
    {
      "cell_type": "markdown",
      "id": "d10ba1f5",
      "metadata": {
        "id": "d10ba1f5"
      },
      "source": [
        "### Compute SVD with the tuned best k value:"
      ]
    },
    {
      "cell_type": "code",
      "execution_count": 22,
      "id": "c8f19048",
      "metadata": {
        "id": "c8f19048"
      },
      "outputs": [],
      "source": [
        "#Creates the prediction matrix\n",
        "svd_factors = svd_decomp(csr_train, best_k)\n",
        "\n",
        "\n",
        "\n",
        "#Define the components of the SVD:\n",
        "user_factor = svd_factors[0]\n",
        "sigma = svd_factors[1]\n",
        "item_factor = svd_factors[2]\n",
        "\n",
        "pred_mtx = np.dot(np.dot(user_factor, sigma), item_factor)\n"
      ]
    },
    {
      "cell_type": "code",
      "execution_count": 23,
      "id": "167ca308",
      "metadata": {
        "colab": {
          "base_uri": "https://localhost:8080/",
          "height": 224
        },
        "id": "167ca308",
        "outputId": "dad3f17b-f5c8-45aa-f8f1-9ef2afd2def3"
      },
      "outputs": [
        {
          "name": "stdout",
          "output_type": "stream",
          "text": [
            "Top 5 book recommendations for user 5:\n"
          ]
        },
        {
          "data": {
            "text/html": [
              "<div>\n",
              "<style scoped>\n",
              "    .dataframe tbody tr th:only-of-type {\n",
              "        vertical-align: middle;\n",
              "    }\n",
              "\n",
              "    .dataframe tbody tr th {\n",
              "        vertical-align: top;\n",
              "    }\n",
              "\n",
              "    .dataframe thead th {\n",
              "        text-align: right;\n",
              "    }\n",
              "</style>\n",
              "<table border=\"1\" class=\"dataframe\">\n",
              "  <thead>\n",
              "    <tr style=\"text-align: right;\">\n",
              "      <th></th>\n",
              "      <th>book_id</th>\n",
              "      <th>book_name</th>\n",
              "      <th>predicted_rating</th>\n",
              "    </tr>\n",
              "  </thead>\n",
              "  <tbody>\n",
              "    <tr>\n",
              "      <th>571</th>\n",
              "      <td>2438</td>\n",
              "      <td>Gifts of the Spirit : Living the Wisdom of the...</td>\n",
              "      <td>9.079093</td>\n",
              "    </tr>\n",
              "    <tr>\n",
              "      <th>390</th>\n",
              "      <td>132</td>\n",
              "      <td>Summer of Storms</td>\n",
              "      <td>7.244908</td>\n",
              "    </tr>\n",
              "    <tr>\n",
              "      <th>3169</th>\n",
              "      <td>1519</td>\n",
              "      <td>Don Quixote of LA Mancha</td>\n",
              "      <td>6.982640</td>\n",
              "    </tr>\n",
              "    <tr>\n",
              "      <th>2234</th>\n",
              "      <td>1630</td>\n",
              "      <td>Siddhartha</td>\n",
              "      <td>6.422977</td>\n",
              "    </tr>\n",
              "    <tr>\n",
              "      <th>3198</th>\n",
              "      <td>1011</td>\n",
              "      <td>The Phantom of the Opera (Signet Classics (Pap...</td>\n",
              "      <td>4.991599</td>\n",
              "    </tr>\n",
              "  </tbody>\n",
              "</table>\n",
              "</div>"
            ],
            "text/plain": [
              "      book_id                                          book_name  \\\n",
              "571      2438  Gifts of the Spirit : Living the Wisdom of the...   \n",
              "390       132                                   Summer of Storms   \n",
              "3169     1519                           Don Quixote of LA Mancha   \n",
              "2234     1630                                         Siddhartha   \n",
              "3198     1011  The Phantom of the Opera (Signet Classics (Pap...   \n",
              "\n",
              "      predicted_rating  \n",
              "571           9.079093  \n",
              "390           7.244908  \n",
              "3169          6.982640  \n",
              "2234          6.422977  \n",
              "3198          4.991599  "
            ]
          },
          "metadata": {},
          "output_type": "display_data"
        }
      ],
      "source": [
        "#get top N recommendation for a specific user:\n",
        "user_id = 5\n",
        "# get a list of items that user has never rated before:\n",
        "# We need to use the original user_id to filter, but then use the mapped user_idx for indexing csr_recon\n",
        "user_idx = user_map[user_id]\n",
        "rated_items_for_user = train_svd.loc[train_svd['user_id'] == user_id, 'book_idx'].values\n",
        "all_item_indices = np.arange(num_items)\n",
        "unrated_list_idx = np.setdiff1d(all_item_indices, rated_items_for_user)\n",
        "\n",
        "#getting user predictions on these items:\n",
        "pred_unrated = pred_mtx[user_idx, unrated_list_idx]\n",
        "\n",
        "# Get the indices of the top 5 predicted ratings\n",
        "top_5_indices_unrated = pred_unrated.argsort()[::-1][:5]\n",
        "\n",
        "# Get the actual book_idx of the top 5 recommended books\n",
        "recommended_book_idx = unrated_list_idx[top_5_indices_unrated]\n",
        "\n",
        "# Map back to original book_id and get book names\n",
        "recommended_book_ids = [item_ids[idx] for idx in recommended_book_idx]\n",
        "\n",
        "# Get the book names for the recommended book_ids using df_com, then select relevant columns and drop duplicates\n",
        "recommended_book_info_from_df_com = df_com[df_com['book_id'].isin(recommended_book_ids)]['book_name'].drop_duplicates()\n",
        "\n",
        "#Get the indices of the recommended books specific to the selected user:\n",
        "top_5_idx = recommended_book_info_from_df_com.index.values\n",
        "\n",
        "#To append the predicted rating to df_com and add the user_avg_ratings back:\n",
        "df_com['predicted_rating'] = pred_mtx[df_com['user_idx'].values, df_com['book_idx'].values] + df_com['user_avg_rating']\n",
        "\n",
        "#To see the top 5 recommended books with the predicted ratings:\n",
        "recommended_book_info_from_df_com = df_com.loc[top_5_idx, ['book_id', 'book_name', 'predicted_rating']].sort_values(by='predicted_rating', ascending=False)\n",
        "\n",
        "print(f\"Top 5 book recommendations for user {user_id}:\")\n",
        "display(recommended_book_info_from_df_com)\n"
      ]
    },
    {
      "cell_type": "code",
      "execution_count": 24,
      "id": "n42rTSVYA9Xt",
      "metadata": {
        "colab": {
          "base_uri": "https://localhost:8080/"
        },
        "id": "n42rTSVYA9Xt",
        "outputId": "58208a20-63d0-4160-eaf4-dc88be37b8fa"
      },
      "outputs": [
        {
          "name": "stdout",
          "output_type": "stream",
          "text": [
            "SVD model novelty score = 0.7325\n",
            "SVD model Diversity score = 0.9697\n",
            "SVD model Serendipity score = 0.9832\n"
          ]
        }
      ],
      "source": [
        "#To generate novelty score:\n",
        "#To get item popularity:\n",
        "item_pop = df_com.groupby('book_id')['rating'].apply(lambda x: (x > 0).sum())\n",
        "item_pop = item_pop / item_pop.max()\n",
        "novelty_score = np.mean([1 - item_pop[i] for i in recommended_book_ids])\n",
        "print(f'SVD model novelty score = {novelty_score}')\n",
        "\n",
        "#To get the diversity score:\n",
        "#Step 1 get item factors from the recommended items:\n",
        "item_vec = item_factor[:, recommended_book_idx]\n",
        "sim_matrix = cosine_similarity(item_vec.T) #.T is to put the rows as n items and k factors as columns. This is what the cosine_similarity takes\n",
        "upper_triangle = sim_matrix[np.triu_indices(len(recommended_book_idx), k=1)]\n",
        "diversity_score = 1 - np.mean(upper_triangle)\n",
        "print(f'SVD model Diversity score = {diversity_score:.4f}')\n",
        "\n",
        "#To get serendipity score:\n",
        "#First get books_idx that the user rated a score 4 or above:\n",
        "liked_items = df_com[(df_com['user_idx']==user_idx) & (df_com['rating'] >= 4)]\n",
        "liked_book_indices = liked_items['book_idx'].unique()\n",
        "#Extract the liked book factors:\n",
        "liked_vec = item_factor[:, liked_book_indices]\n",
        "\n",
        "serendipity_score = []\n",
        "\n",
        "for i in recommended_book_idx:\n",
        "  rec_vec = item_factor[:, i].reshape(1,-1)\n",
        "  if liked_vec.shape[0] > 0:\n",
        "    sim = cosine_similarity(rec_vec, liked_vec.T) # Transpose liked_vec here\n",
        "    serendipity_score.append(1 - np.mean(sim))\n",
        "\n",
        "serendipity = np.mean(serendipity_score)\n",
        "print(f'SVD model Serendipity score = {serendipity:.4f}')"
      ]
    },
    {
      "cell_type": "code",
      "execution_count": 25,
      "id": "838948bf",
      "metadata": {},
      "outputs": [
        {
          "name": "stdout",
          "output_type": "stream",
          "text": [
            "ALS model RMSE = 1.7956\n",
            "ALS model MAE = 1.4173\n",
            "ALS model Novelty score with log transformation normalization: 0.824\n",
            "ALS model Raw Diversity score: 0.1107\n",
            "ALS model Raw Serendipity score: 0.0930\n",
            "ALS model re-ranked Diversity score: 0.1107\n",
            "ALS model re-ranked Serendipity score: 0.0930\n",
            "--------------------------------------------------------------------------------\n",
            "SVD model RMSE: 1.4692\n",
            "SVD model MAE: 1.1064\n",
            "SVD model novelty score = 0.7325\n",
            "SVD model Diversity score = 0.9697\n",
            "SVD model Serendipity score = 0.9832\n"
          ]
        }
      ],
      "source": [
        "#Compare the metrics of the two models:\n",
        "print(f'ALS model RMSE = {rmse_evaluator.evaluate(best_model.transform(test)):.4f}')\n",
        "print(f'ALS model MAE = {mae_evaluator.evaluate(best_model.transform(test)):.4f}')\n",
        "print(f'ALS model Novelty score with log transformation normalization: {novelty_log:.3f}')\n",
        "print(f\"ALS model Raw Diversity score: {diversity_score_1:.4f}\")\n",
        "print(f'ALS model Raw Serendipity score: {serendipity_score_1:.4f}')\n",
        "print(f\"ALS model re-ranked Diversity score: {re_ranked_diversity_score:.4f}\")\n",
        "print(f\"ALS model re-ranked Serendipity score: {re_ranked_serendipity_score:.4f}\")\n",
        "print('-'*80)\n",
        "print(f'SVD model RMSE: {min_rmse:.4f}')\n",
        "print(f'SVD model MAE: {min_mae:.4f}')\n",
        "print(f'SVD model novelty score = {novelty_score}')\n",
        "print(f'SVD model Diversity score = {diversity_score:.4f}')\n",
        "print(f'SVD model Serendipity score = {serendipity:.4f}')\n"
      ]
    },
    {
      "cell_type": "markdown",
      "id": "2074739a",
      "metadata": {},
      "source": [
        "### Conclusion:"
      ]
    },
    {
      "cell_type": "markdown",
      "id": "95b1957f",
      "metadata": {},
      "source": [
        "Comparing the ALS model and the SVD model, the latter demonstrates superior performance in predicting user ratings. On both RMSE and MAE metrics, the SVD model yields lower error rates, indicating higher accuracy in capturing user preferences.\n",
        "\n",
        "In terms of novelty, diversity, and serendipity, the ALS model has strengths in recommending less popular books, thereby offering users more novel experiences. However, it struggles with diversity and serendipity, often producing repetitive recommendations—reflected in its lower scores on these metrics. In contrast, the SVD model delivers more balanced recommendations. For the selected user, its top-5 recommendations are novel, diverse, and include items that are both unexpected and relevant, which can increase user engagement.\n",
        "\n",
        "Attempts to enhance the ALS model by adjusting weight scores for improved diversity and serendipity yielded only minimal improvements. This highlights a limitation in ALS’s ability to escape popularity bias without more complex tuning or hybridization.\n",
        "\n",
        "From a business perspective, the SVD model presents a more compelling choice. Its recommendations are less repetitive and more varied, including both mainstream and lesser-known books, which can improve user satisfaction and retention. Furthermore, its lower RMSE and MAE suggest better alignment with actual user ratings, potentially translating to improved click-through or purchase rates.\n",
        "\n",
        "To further enhance the recommender system, online evaluation could be implemented, where key metrics such as accuracy, novelty, diversity, and serendipity are monitored in real time. One practical approach is to deploy both recommender systems in parallel and randomly assign users to each, enabling A/B testing. This would allow the collection of live feedback and performance data, enabling dynamic tuning of each model. However, such an approach requires substantial pre-deployment planning and infrastructure. Maintaining two live systems incurs higher operational costs, and the backend must be scalable to handle increased load.\n",
        "\n",
        "In this context, deploying the system on a scalable cluster-based framework like Apache Spark on the cloud would be advantageous. Spark's distributed processing capabilities make it well-suited for high-volume, real-time recommendation workloads, especially when combined with robust orchestration tools and scalable cloud storage.\n"
      ]
    }
  ],
  "metadata": {
    "colab": {
      "provenance": []
    },
    "kernelspec": {
      "display_name": "Python 3",
      "language": "python",
      "name": "python3"
    },
    "language_info": {
      "codemirror_mode": {
        "name": "ipython",
        "version": 3
      },
      "file_extension": ".py",
      "mimetype": "text/x-python",
      "name": "python",
      "nbconvert_exporter": "python",
      "pygments_lexer": "ipython3",
      "version": "3.11.9"
    }
  },
  "nbformat": 4,
  "nbformat_minor": 5
}

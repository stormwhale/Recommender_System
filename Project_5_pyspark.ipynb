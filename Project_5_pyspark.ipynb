{
 "cells": [
  {
   "cell_type": "markdown",
   "id": "28e06150",
   "metadata": {},
   "source": [
    "### Project 5: Re-visiting the Jester dataset in PySpark"
   ]
  },
  {
   "cell_type": "markdown",
   "id": "d6f7aba5",
   "metadata": {},
   "source": [
    "#### Parameter comparisons:\n",
    "**Project 2 parameters (Surprise Library)**\n",
    "1) Data size = 100 randomly sampled users for 100 jokes\n",
    "2) model = KNN with cosine similarity using the surprise library\n",
    "3) RMSE = 4.818 after normalizing user ratings\n",
    "4) Elapsed time: 1.0382 seconds\n",
    "\n",
    "**New Implementations using PySpark**\n",
    "1) Data size = 73,421 user x 100 jokes (original jester dataset size). That is about 734 times more data points than the surprise library set.\n",
    "2) model = ALS in PySpark\n",
    "3) 2 x 2 hyperparamter tuning (total 4 models)\n",
    "4) 3-fold cross-validation\n",
    "\n",
    "We will be comparsion the prediction differences, RMSE, and the time elapsed for running the PySpark code\n"
   ]
  },
  {
   "cell_type": "code",
   "execution_count": 28,
   "id": "1eb1c5ff",
   "metadata": {},
   "outputs": [],
   "source": [
    "from pyspark.sql.functions import col\n",
    "from pyspark.sql.functions import explode\n",
    "from pyspark.sql import SparkSession\n",
    "import pyspark.sql.functions as F\n",
    "from pyspark.ml.recommendation import ALS\n",
    "from pyspark.ml.tuning import CrossValidator, ParamGridBuilder\n",
    "from pyspark.ml.evaluation import RegressionEvaluator\n",
    "from pyspark.sql.functions import desc\n",
    "from pyspark.sql import functions as F\n",
    "import urllib.request\n",
    "from pyspark.sql.window import Window\n",
    "from pyspark.sql.functions import row_number, monotonically_increasing_id\n",
    "import time\n",
    "import numpy as np\n",
    "from functools import reduce\n",
    "from pyspark.sql.functions import col\n",
    "import seaborn as sns\n",
    "import matplotlib.pyplot as plt"
   ]
  },
  {
   "cell_type": "code",
   "execution_count": 15,
   "id": "5539467c",
   "metadata": {},
   "outputs": [],
   "source": [
    "#Set timer:\n",
    "start = time.time()"
   ]
  },
  {
   "cell_type": "markdown",
   "id": "c5700463",
   "metadata": {},
   "source": [
    "Step 1: Download the three jester files and combine them:"
   ]
  },
  {
   "cell_type": "code",
   "execution_count": 16,
   "id": "adc666fe",
   "metadata": {},
   "outputs": [
    {
     "data": {
      "text/plain": [
       "('jester-data-3.csv', <http.client.HTTPMessage at 0x2c3257b9dd0>)"
      ]
     },
     "execution_count": 16,
     "metadata": {},
     "output_type": "execute_result"
    }
   ],
   "source": [
    "url1 = 'https://raw.githubusercontent.com/stormwhale/data-mines/refs/heads/main/jester-data-1.csv'\n",
    "url2 = 'https://raw.githubusercontent.com/stormwhale/data-mines/refs/heads/main/jester-data-2.csv'\n",
    "url3 = 'https://raw.githubusercontent.com/stormwhale/data-mines/refs/heads/main/jester-data-3.csv'\n",
    "\n",
    "urllib.request.urlretrieve(url1, 'jester-data-1.csv')\n",
    "urllib.request.urlretrieve(url2, 'jester-data-2.csv')\n",
    "urllib.request.urlretrieve(url3, 'jester-data-3.csv')"
   ]
  },
  {
   "cell_type": "code",
   "execution_count": 17,
   "id": "fbef9451",
   "metadata": {},
   "outputs": [
    {
     "name": "stdout",
     "output_type": "stream",
     "text": [
      "Num of rows: 73421\n",
      "Num of columns: 101\n"
     ]
    }
   ],
   "source": [
    "#Set timer:\n",
    "start = time.time()\n",
    "\n",
    "#Build Spark session custom to my local computer setup:\n",
    "spark = SparkSession.builder \\\n",
    "    .appName(\"OptimizedLocalSpark\") \\\n",
    "    .master(\"local[16]\") \\\n",
    "    .config(\"spark.driver.memory\", \"24g\") \\\n",
    "    .config(\"spark.executor.memory\", \"24g\") \\\n",
    "    .config(\"spark.driver.maxResultSize\", \"4g\") \\\n",
    "    .config(\"spark.sql.shuffle.partitions\", \"64\") \\\n",
    "    .config(\"spark.sql.execution.arrow.pyspark.enabled\", \"true\") \\\n",
    "    .config(\"spark.serializer\", \"org.apache.spark.serializer.KryoSerializer\") \\\n",
    "    .getOrCreate()\n",
    "    \n",
    "#Read the three files:\n",
    "df1 = spark.read.csv('jester-data-1.csv', header=False, inferSchema=True)\n",
    "df2 = spark.read.csv('jester-data-2.csv', header=False, inferSchema=True)\n",
    "df3 = spark.read.csv('jester-data-3.csv', header=False, inferSchema=True)\n",
    "\n",
    "#Combine the three dataframes by row:\n",
    "df = df1.union(df2).union(df3)\n",
    "\n",
    "#To chekc the size and shape of the dataframe:\n",
    "print(f'Num of rows: {df.count()}\\nNum of columns: {len(df.columns)}')"
   ]
  },
  {
   "cell_type": "markdown",
   "id": "3e530e37",
   "metadata": {},
   "source": [
    "Step 2: Data cleaning"
   ]
  },
  {
   "cell_type": "code",
   "execution_count": 18,
   "id": "3f7a1d06",
   "metadata": {},
   "outputs": [],
   "source": [
    "# Remove the first column as it is a count for number of jokes rated by the user:\n",
    "df = df.drop(df.columns[0])\n",
    "\n",
    "#Replace all 99.0 values to Null\n",
    "df = df.replace(99.0, None)\n",
    "\n",
    "#All a user_id column:\n",
    "df = df.withColumn(\n",
    "    'user_id', \n",
    "    row_number().over(Window.orderBy(monotonically_increasing_id())))\n",
    "\n",
    "#Rename the columns from 1 to 100 for the jokes:\n",
    "jokes_col = [f'joke_{i+1}' for i in range(df.columns.__len__()-1)]\n",
    "df = df.toDF(*(jokes_col + ['user_id']))\n",
    "df = df.select(['user_id'] + jokes_col)\n",
    "\n",
    "\n",
    "#Covert the df to long format:\n",
    "n = len(df.columns) - 1 #Disregard the user_id column\n",
    "joke_col = [c for c in df.columns if c != 'user_id'] #Select only the jokes column\n",
    "stack_expr = \", \".join(f'\"{i+1}\", {c}' for i, c in enumerate(joke_col)) #Create a pair for the columns to stack\n",
    "\n",
    "df_long = df.selectExpr('user_id', f\"stack({n}, {stack_expr}) as (joke_id, rating)\")\n",
    "\n",
    "#Convert the column types into numeric values:\n",
    "df_long = df_long.withColumn('joke_id', col('joke_id').cast('int'))"
   ]
  },
  {
   "cell_type": "markdown",
   "id": "45b723f5",
   "metadata": {},
   "source": [
    "Step 3: train-test-split the dataset:"
   ]
  },
  {
   "cell_type": "code",
   "execution_count": 19,
   "id": "3b32f598",
   "metadata": {},
   "outputs": [
    {
     "name": "stdout",
     "output_type": "stream",
     "text": [
      "Num of rows in train: 3309467\n",
      "Num of rows in test: 826893\n"
     ]
    }
   ],
   "source": [
    "df_long_no_null = df_long.filter(col('rating').isNotNull())\n",
    "train, test = df_long_no_null.randomSplit([0.8, 0.2], seed = 42)\n",
    "print(f'Num of rows in train: {train.count()}')\n",
    "print(f'Num of rows in test: {test.count()}')"
   ]
  },
  {
   "cell_type": "markdown",
   "id": "2b956b02",
   "metadata": {},
   "source": [
    "Step 4: Build and tune an ALS model:"
   ]
  },
  {
   "cell_type": "code",
   "execution_count": null,
   "id": "62984bfb",
   "metadata": {},
   "outputs": [
    {
     "name": "stdout",
     "output_type": "stream",
     "text": [
      "Best ALS model parameters:\n",
      "--------------------------------------------------------------------------------\n",
      "rank: 20\n",
      "regParm: 0.5\n",
      "Maxiter: 10\n",
      "--------------------------------------------------------------------------------\n",
      "RMSE = 4.15427216539553\n"
     ]
    }
   ],
   "source": [
    "#Setting up ALS model:\n",
    "als = ALS(\n",
    "    userCol='user_id',\n",
    "    itemCol='joke_id',\n",
    "    ratingCol='rating',\n",
    "    nonnegative=False,\n",
    "    coldStartStrategy='drop',\n",
    "    implicitPrefs=False,\n",
    "    seed = 42\n",
    "    )\n",
    "\n",
    "#Setting tuning parameters:\n",
    "param_grid = ParamGridBuilder()\\\n",
    "    .addGrid(als.rank, [10, 20])\\\n",
    "    .addGrid(als.regParam, [0.1, 0.5])\\\n",
    "    .build()\n",
    "    \n",
    "#Define evaluators:\n",
    "rmse_eva = RegressionEvaluator(\n",
    "    metricName='rmse',\n",
    "    labelCol='rating',\n",
    "    predictionCol='prediction'\n",
    ")\n",
    "\n",
    "#Set up cross-validation:\n",
    "cv = CrossValidator(\n",
    "    estimator=als,\n",
    "    estimatorParamMaps=param_grid,\n",
    "    evaluator=rmse_eva,\n",
    "    numFolds=3\n",
    ")\n",
    "\n",
    "#Fitting model:\n",
    "cv_model = cv.fit(train)\n",
    "best_model = cv_model.bestModel\n",
    "\n",
    "#Generating predictions:\n",
    "predictions = best_model.transform(test)\n",
    "\n",
    "print('Best ALS model parameters:')\n",
    "print('-'*80)\n",
    "print(f'rank: {best_model.rank}')\n",
    "print(f'regParm: {best_model._java_obj.parent().getRegParam()}')\n",
    "print(f'Maxiter: {best_model._java_obj.parent().getMaxIter()}')\n",
    "print('-'*80)\n",
    "print(f'RMSE = {rmse_eva.evaluate(best_model.transform(test)):.3f}')"
   ]
  },
  {
   "cell_type": "markdown",
   "id": "7b0ac076",
   "metadata": {},
   "source": [
    "Step 5: To generate user specific recommendations"
   ]
  },
  {
   "cell_type": "code",
   "execution_count": 21,
   "id": "1ab6eb1f",
   "metadata": {},
   "outputs": [],
   "source": [
    "rec_list = best_model.recommendForAllUsers(100)\n",
    "#Put recommendation in dataframe:\n",
    "rec_list = rec_list.select('user_id', explode('recommendations').alias('rec'))\\\n",
    "    .select('user_id', col('rec.joke_id').alias('joke_id'), col('rec.rating').alias('rating'))\n",
    "\n",
    "#remove items that users have already rated in both train and test set:\n",
    "user_seen = train.select(['user_id', 'joke_id']).union(test.select(['user_id', 'joke_id']))\n",
    "\n",
    "#Exclude the seen jokes:\n",
    "rec_unrated = rec_list.join(user_seen, on=['user_id','joke_id'], how='left_anti')"
   ]
  },
  {
   "cell_type": "markdown",
   "id": "ab34ebb4",
   "metadata": {},
   "source": [
    "To get Top-N joke recommendations:"
   ]
  },
  {
   "cell_type": "code",
   "execution_count": 22,
   "id": "9ec9cd18",
   "metadata": {},
   "outputs": [
    {
     "name": "stdout",
     "output_type": "stream",
     "text": [
      "+-------+-------+------------+----+\n",
      "|user_id|joke_id|      rating|rank|\n",
      "+-------+-------+------------+----+\n",
      "|     38|     72|   2.6869557|   1|\n",
      "|     38|     89|   2.6127899|   2|\n",
      "|     38|     65|   2.4433026|   3|\n",
      "|     38|     76|    2.335305|   4|\n",
      "|     38|     26|   2.1929462|   5|\n",
      "|     94|     80|   3.6306744|   1|\n",
      "|     94|     72|   3.3314579|   2|\n",
      "|     94|     73|   3.2282088|   3|\n",
      "|     94|    100|   3.1725347|   4|\n",
      "|     94|     76|   3.0841897|   5|\n",
      "|    104|     98|   -0.864941|   1|\n",
      "|    104|    100|  -1.2248641|   2|\n",
      "|    104|     83|  -1.2716812|   3|\n",
      "|    104|     75|  -1.4375545|   4|\n",
      "|    104|     81|  -1.4602803|   5|\n",
      "|    111|     89|   0.7639573|   1|\n",
      "|    111|     72|-0.009106692|   2|\n",
      "|    111|     88| -0.18593886|   3|\n",
      "|    111|     97| -0.25139844|   4|\n",
      "|    111|     87| -0.32933736|   5|\n",
      "+-------+-------+------------+----+\n",
      "only showing top 20 rows\n"
     ]
    }
   ],
   "source": [
    "topN = 5\n",
    "win_spec = Window.partitionBy('user_id').orderBy(desc('rating'))\n",
    "final_rec = rec_unrated.withColumn('rank', F.rank().over(win_spec)).filter(F.col('rank') <= topN)\n",
    "final_rec.show()"
   ]
  },
  {
   "cell_type": "markdown",
   "id": "5aec1307",
   "metadata": {},
   "source": [
    "To get Top-N jokes for specific user:"
   ]
  },
  {
   "cell_type": "code",
   "execution_count": 25,
   "id": "b5bd29db",
   "metadata": {},
   "outputs": [
    {
     "name": "stdout",
     "output_type": "stream",
     "text": [
      "+-------+-------+-----------+----+\n",
      "|user_id|joke_id|     rating|rank|\n",
      "+-------+-------+-----------+----+\n",
      "|      1|     89|  1.6574516|   1|\n",
      "|      1|     72|-0.12083605|   2|\n",
      "|      1|     93|-0.56045926|   3|\n",
      "|      1|     76|-0.63118654|   4|\n",
      "|      1|     83| -1.3879728|   5|\n",
      "+-------+-------+-----------+----+\n",
      "\n"
     ]
    }
   ],
   "source": [
    "#Define user_id:\n",
    "user_id = 1\n",
    "\n",
    "final_rec.filter(col('user_id')==user_id).show()"
   ]
  },
  {
   "cell_type": "code",
   "execution_count": 24,
   "id": "dbe5a6a5",
   "metadata": {},
   "outputs": [
    {
     "name": "stdout",
     "output_type": "stream",
     "text": [
      "That is 1.00 minutes and 26.00 seconds elapsed\n"
     ]
    }
   ],
   "source": [
    "#End timer:\n",
    "end = time.time()\n",
    "\n",
    "minutes_remainer = int((end - start)//60)\n",
    "seconds_remainer = int((end - start) % 60)\n",
    "\n",
    "print(f'That is {minutes_remainer:.2f} minutes and {seconds_remainer:.2f} seconds elapsed')"
   ]
  },
  {
   "cell_type": "code",
   "execution_count": null,
   "id": "e33264ad",
   "metadata": {},
   "outputs": [
    {
     "name": "stderr",
     "output_type": "stream",
     "text": [
      "C:\\Users\\godly\\AppData\\Local\\Packages\\PythonSoftwareFoundation.Python.3.11_qbz5n2kfra8p0\\LocalCache\\local-packages\\Python311\\site-packages\\pyspark\\sql\\pandas\\conversion.py:95: UserWarning: toPandas attempted Arrow optimization because 'spark.sql.execution.arrow.pyspark.enabled' is set to true; however, failed by the reason below:\n",
      "  [PACKAGE_NOT_INSTALLED] PyArrow >= 11.0.0 must be installed; however, it was not found.\n",
      "Attempting non-optimization as 'spark.sql.execution.arrow.pyspark.fallback.enabled' is set to true.\n",
      "  warn(msg)\n"
     ]
    },
    {
     "data": {
      "text/plain": [
       "Text(0, 0.5, 'counts')"
      ]
     },
     "execution_count": 36,
     "metadata": {},
     "output_type": "execute_result"
    },
    {
     "data": {
      "image/png": "[encoded data removed]",
      "text/plain": [
       "<Figure size 640x480 with 1 Axes>"
      ]
     },
     "metadata": {},
     "output_type": "display_data"
    }
   ],
   "source": [
    "   \n",
    "#To visualize the predicted rating distributions:\n",
    "rec_unrated_pd = rec_unrated.toPandas()\n",
    "sns.histplot(x=rec_unrated_pd['rating'], bins=30)\n",
    "plt.title('Predicted joke rating distribution')\n",
    "plt.xlabel('Rating -10 to 10')\n",
    "plt.grid(True)\n",
    "plt.ylabel('counts')"
   ]
  },
  {
   "cell_type": "code",
   "execution_count": null,
   "id": "6b04b8d6",
   "metadata": {},
   "outputs": [],
   "source": []
  },
  {
   "cell_type": "markdown",
   "id": "4b46a4fb",
   "metadata": {},
   "source": [
    "### Summary:\n",
    "In comparison to the error metrics (RMSE), the ALS model in PySpark performs better than the KNN model from the surprise library. The former achieves an RMSE of approximately 4.15, while the latter results in 4.818.\n",
    "\n",
    "In terms of processing time, the surprise library took just over 1 second to run the script and generate predictions. In contrast, the ALS model in PySpark required about 1 minute and 26 seconds to tune hyperparameters across 4 different models, each evaluated using 3-fold cross-validation. It's important to note that predicted ratings from the ALS model are automatically normalized as part of its algorithm, which introduces a difference in output compared to the surprise library, which does not normalize ratings by default.\n",
    "\n",
    "On the surface, PySpark's processing time may not seem as fast as loading a local Python library such as surprise for generating recommendations. However, when considering that the dataset used in this case is roughly 734 times larger than the one in Project 2, PySpark’s performance is relatively efficient. Additionally, since 4 ALS models were tuned using 3-fold cross-validation, if we divide the total time (86 seconds) by the number of models trained, PySpark used only about 21.5 seconds per model to process a dataset more than 700 times larger. This highlights the efficiency of Spark's parallel processing capabilities.\n",
    "\n",
    "By design, Spark distributes workloads across multiple cores or machines, allowing for parallel execution and significantly faster processing compared to serial computation, where tasks are performed one at a time. Furthermore, Spark uses in-memory computation, which avoids the repeated disk read/write cycles seen in systems like Hadoop, thereby reducing latency. Even when used in a local environment — such as a personal computer equipped with a multi-core CPU and 16–32 GB of RAM — PySpark can make a significant difference in handling large volumes of data.\n",
    "\n",
    "When deciding whether to use Spark, the key considerations typically include data size, computational complexity, and RAM limitations. Among these, data size is often the most important factor. Larger datasets demand more complex calculations and higher memory requirements, both of which Spark handles well. For example, while pandas or NumPy may crash or become inefficient when handling datasets around 50 GB, Spark's distributed architecture makes it a practical and scalable solution.\n",
    "\n",
    "However, for smaller datasets, using Spark can be counterintuitive. In such cases, libraries like pandas or NumPy are often faster and easier to implement, due to their lower overhead and simplicity.\n",
    "\n",
    "\n"
   ]
  }
 ],
 "metadata": {
  "kernelspec": {
   "display_name": "Python 3",
   "language": "python",
   "name": "python3"
  },
  "language_info": {
   "codemirror_mode": {
    "name": "ipython",
    "version": 3
   },
   "file_extension": ".py",
   "mimetype": "text/x-python",
   "name": "python",
   "nbconvert_exporter": "python",
   "pygments_lexer": "ipython3",
   "version": "3.11.9"
  }
 },
 "nbformat": 4,
 "nbformat_minor": 5
}

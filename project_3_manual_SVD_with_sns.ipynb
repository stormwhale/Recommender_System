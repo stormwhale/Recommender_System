{
  "cells": [
    {
      "cell_type": "code",
      "execution_count": 4,
      "metadata": {
        "id": "egoL7qQKsjcl"
      },
      "outputs": [],
      "source": [
        "import pandas as pd\n",
        "import numpy as np\n",
        "from scipy.sparse import csr_matrix\n",
        "from scipy.sparse.linalg import svds\n",
        "from sklearn.metrics import mean_squared_error\n",
        "from sklearn.model_selection import train_test_split\n",
        "import seaborn as sns\n",
        "import matplotlib.pyplot as plt\n"
      ]
    },
    {
      "cell_type": "markdown",
      "metadata": {},
      "source": [
        "### Manual SVD Computation:"
      ]
    },
    {
      "cell_type": "code",
      "execution_count": 5,
      "metadata": {
        "id": "XwFuxdC_54TW"
      },
      "outputs": [],
      "source": [
        "url = 'https://raw.githubusercontent.com/stormwhale/data-mines/refs/heads/main/ratings.csv'\n",
        "url2 = 'https://raw.githubusercontent.com/stormwhale/data-mines/refs/heads/main/movies.csv'\n",
        "df = pd.read_csv(url)\n",
        "df_name = pd.read_csv(url2)"
      ]
    },
    {
      "cell_type": "markdown",
      "metadata": {
        "id": "NyM5pex_6PkH"
      },
      "source": [
        "To select only relevant columns"
      ]
    },
    {
      "cell_type": "code",
      "execution_count": 6,
      "metadata": {
        "id": "jwUpqm166NWZ"
      },
      "outputs": [
        {
          "data": {
            "text/html": [
              "<div>\n",
              "<style scoped>\n",
              "    .dataframe tbody tr th:only-of-type {\n",
              "        vertical-align: middle;\n",
              "    }\n",
              "\n",
              "    .dataframe tbody tr th {\n",
              "        vertical-align: top;\n",
              "    }\n",
              "\n",
              "    .dataframe thead th {\n",
              "        text-align: right;\n",
              "    }\n",
              "</style>\n",
              "<table border=\"1\" class=\"dataframe\">\n",
              "  <thead>\n",
              "    <tr style=\"text-align: right;\">\n",
              "      <th></th>\n",
              "      <th>userId</th>\n",
              "      <th>movieId</th>\n",
              "      <th>rating</th>\n",
              "      <th>title</th>\n",
              "      <th>genres</th>\n",
              "    </tr>\n",
              "  </thead>\n",
              "  <tbody>\n",
              "    <tr>\n",
              "      <th>0</th>\n",
              "      <td>1</td>\n",
              "      <td>1</td>\n",
              "      <td>4.0</td>\n",
              "      <td>Toy Story (1995)</td>\n",
              "      <td>Adventure|Animation|Children|Comedy|Fantasy</td>\n",
              "    </tr>\n",
              "    <tr>\n",
              "      <th>1</th>\n",
              "      <td>1</td>\n",
              "      <td>3</td>\n",
              "      <td>4.0</td>\n",
              "      <td>Grumpier Old Men (1995)</td>\n",
              "      <td>Comedy|Romance</td>\n",
              "    </tr>\n",
              "    <tr>\n",
              "      <th>2</th>\n",
              "      <td>1</td>\n",
              "      <td>6</td>\n",
              "      <td>4.0</td>\n",
              "      <td>Heat (1995)</td>\n",
              "      <td>Action|Crime|Thriller</td>\n",
              "    </tr>\n",
              "  </tbody>\n",
              "</table>\n",
              "</div>"
            ],
            "text/plain": [
              "   userId  movieId  rating                    title  \\\n",
              "0       1        1     4.0         Toy Story (1995)   \n",
              "1       1        3     4.0  Grumpier Old Men (1995)   \n",
              "2       1        6     4.0              Heat (1995)   \n",
              "\n",
              "                                        genres  \n",
              "0  Adventure|Animation|Children|Comedy|Fantasy  \n",
              "1                               Comedy|Romance  \n",
              "2                        Action|Crime|Thriller  "
            ]
          },
          "execution_count": 6,
          "metadata": {},
          "output_type": "execute_result"
        }
      ],
      "source": [
        "df_fix = df[['userId', 'movieId', 'rating']]\n",
        "df_fix = df_fix.merge(df_name, on='movieId', how='left')\n",
        "df_fix.head(3)"
      ]
    },
    {
      "cell_type": "markdown",
      "metadata": {
        "id": "fpMbUPzwyiWL"
      },
      "source": [
        "Before we compute the SVD, we will center the rating values with each user's mean rating to eliminate user-bias:"
      ]
    },
    {
      "cell_type": "code",
      "execution_count": 7,
      "metadata": {
        "id": "onjhFiZGy_7H"
      },
      "outputs": [],
      "source": [
        "user_mean = df_fix.groupby('userId')['rating'].mean()\n",
        "df_fix['norm_rating'] = df_fix['rating'] - df_fix['userId'].map(user_mean)"
      ]
    },
    {
      "cell_type": "markdown",
      "metadata": {
        "id": "bxipmWt23Msd"
      },
      "source": [
        "Visually inspect the before and after normalization:"
      ]
    },
    {
      "cell_type": "code",
      "execution_count": 8,
      "metadata": {
        "colab": {
          "base_uri": "https://localhost:8080/",
          "height": 449
        },
        "id": "yskTvG6y3TV0",
        "outputId": "96c2ec03-4d73-43cb-82dd-5cf3829ae21b"
      },
      "outputs": [
        {
          "data": {
            "image/png": "[encoded data removed]",
            "text/plain": [
              "<Figure size 640x480 with 1 Axes>"
            ]
          },
          "metadata": {},
          "output_type": "display_data"
        }
      ],
      "source": [
        "sns.histplot(df_fix['rating'], bins = 11, label = 'Before Normalization', kde = True)\n",
        "sns.histplot(df_fix['norm_rating'], label = 'After Normalization', kde = True)\n",
        "plt.legend()\n",
        "plt.show()"
      ]
    },
    {
      "cell_type": "markdown",
      "metadata": {
        "id": "A0j7Q4oIozf2"
      },
      "source": [
        "We will make a new matrix with only numeric values from df_fix and convert the prediction results back to strings later:"
      ]
    },
    {
      "cell_type": "code",
      "execution_count": 9,
      "metadata": {
        "colab": {
          "base_uri": "https://localhost:8080/",
          "height": 204
        },
        "id": "GzFZL2O9XV_I",
        "outputId": "d95eca0f-9eea-4a78-c509-2160a956b37f"
      },
      "outputs": [
        {
          "data": {
            "text/html": [
              "<div>\n",
              "<style scoped>\n",
              "    .dataframe tbody tr th:only-of-type {\n",
              "        vertical-align: middle;\n",
              "    }\n",
              "\n",
              "    .dataframe tbody tr th {\n",
              "        vertical-align: top;\n",
              "    }\n",
              "\n",
              "    .dataframe thead th {\n",
              "        text-align: right;\n",
              "    }\n",
              "</style>\n",
              "<table border=\"1\" class=\"dataframe\">\n",
              "  <thead>\n",
              "    <tr style=\"text-align: right;\">\n",
              "      <th>movieId</th>\n",
              "      <th>1</th>\n",
              "      <th>2</th>\n",
              "      <th>3</th>\n",
              "      <th>4</th>\n",
              "      <th>5</th>\n",
              "      <th>6</th>\n",
              "      <th>7</th>\n",
              "      <th>8</th>\n",
              "      <th>9</th>\n",
              "      <th>10</th>\n",
              "      <th>...</th>\n",
              "      <th>193565</th>\n",
              "      <th>193567</th>\n",
              "      <th>193571</th>\n",
              "      <th>193573</th>\n",
              "      <th>193579</th>\n",
              "      <th>193581</th>\n",
              "      <th>193583</th>\n",
              "      <th>193585</th>\n",
              "      <th>193587</th>\n",
              "      <th>193609</th>\n",
              "    </tr>\n",
              "    <tr>\n",
              "      <th>userId</th>\n",
              "      <th></th>\n",
              "      <th></th>\n",
              "      <th></th>\n",
              "      <th></th>\n",
              "      <th></th>\n",
              "      <th></th>\n",
              "      <th></th>\n",
              "      <th></th>\n",
              "      <th></th>\n",
              "      <th></th>\n",
              "      <th></th>\n",
              "      <th></th>\n",
              "      <th></th>\n",
              "      <th></th>\n",
              "      <th></th>\n",
              "      <th></th>\n",
              "      <th></th>\n",
              "      <th></th>\n",
              "      <th></th>\n",
              "      <th></th>\n",
              "      <th></th>\n",
              "    </tr>\n",
              "  </thead>\n",
              "  <tbody>\n",
              "    <tr>\n",
              "      <th>1</th>\n",
              "      <td>-0.366379</td>\n",
              "      <td>0.0</td>\n",
              "      <td>-0.366379</td>\n",
              "      <td>0.0</td>\n",
              "      <td>0.0</td>\n",
              "      <td>-0.366379</td>\n",
              "      <td>0.0</td>\n",
              "      <td>0.0</td>\n",
              "      <td>0.0</td>\n",
              "      <td>0.0</td>\n",
              "      <td>...</td>\n",
              "      <td>0.0</td>\n",
              "      <td>0.0</td>\n",
              "      <td>0.0</td>\n",
              "      <td>0.0</td>\n",
              "      <td>0.0</td>\n",
              "      <td>0.0</td>\n",
              "      <td>0.0</td>\n",
              "      <td>0.0</td>\n",
              "      <td>0.0</td>\n",
              "      <td>0.0</td>\n",
              "    </tr>\n",
              "    <tr>\n",
              "      <th>2</th>\n",
              "      <td>0.000000</td>\n",
              "      <td>0.0</td>\n",
              "      <td>0.000000</td>\n",
              "      <td>0.0</td>\n",
              "      <td>0.0</td>\n",
              "      <td>0.000000</td>\n",
              "      <td>0.0</td>\n",
              "      <td>0.0</td>\n",
              "      <td>0.0</td>\n",
              "      <td>0.0</td>\n",
              "      <td>...</td>\n",
              "      <td>0.0</td>\n",
              "      <td>0.0</td>\n",
              "      <td>0.0</td>\n",
              "      <td>0.0</td>\n",
              "      <td>0.0</td>\n",
              "      <td>0.0</td>\n",
              "      <td>0.0</td>\n",
              "      <td>0.0</td>\n",
              "      <td>0.0</td>\n",
              "      <td>0.0</td>\n",
              "    </tr>\n",
              "    <tr>\n",
              "      <th>3</th>\n",
              "      <td>0.000000</td>\n",
              "      <td>0.0</td>\n",
              "      <td>0.000000</td>\n",
              "      <td>0.0</td>\n",
              "      <td>0.0</td>\n",
              "      <td>0.000000</td>\n",
              "      <td>0.0</td>\n",
              "      <td>0.0</td>\n",
              "      <td>0.0</td>\n",
              "      <td>0.0</td>\n",
              "      <td>...</td>\n",
              "      <td>0.0</td>\n",
              "      <td>0.0</td>\n",
              "      <td>0.0</td>\n",
              "      <td>0.0</td>\n",
              "      <td>0.0</td>\n",
              "      <td>0.0</td>\n",
              "      <td>0.0</td>\n",
              "      <td>0.0</td>\n",
              "      <td>0.0</td>\n",
              "      <td>0.0</td>\n",
              "    </tr>\n",
              "  </tbody>\n",
              "</table>\n",
              "<p>3 rows × 9724 columns</p>\n",
              "</div>"
            ],
            "text/plain": [
              "movieId    1       2         3       4       5         6       7       8       \\\n",
              "userId                                                                          \n",
              "1       -0.366379     0.0 -0.366379     0.0     0.0 -0.366379     0.0     0.0   \n",
              "2        0.000000     0.0  0.000000     0.0     0.0  0.000000     0.0     0.0   \n",
              "3        0.000000     0.0  0.000000     0.0     0.0  0.000000     0.0     0.0   \n",
              "\n",
              "movieId  9       10      ...  193565  193567  193571  193573  193579  193581  \\\n",
              "userId                   ...                                                   \n",
              "1           0.0     0.0  ...     0.0     0.0     0.0     0.0     0.0     0.0   \n",
              "2           0.0     0.0  ...     0.0     0.0     0.0     0.0     0.0     0.0   \n",
              "3           0.0     0.0  ...     0.0     0.0     0.0     0.0     0.0     0.0   \n",
              "\n",
              "movieId  193583  193585  193587  193609  \n",
              "userId                                   \n",
              "1           0.0     0.0     0.0     0.0  \n",
              "2           0.0     0.0     0.0     0.0  \n",
              "3           0.0     0.0     0.0     0.0  \n",
              "\n",
              "[3 rows x 9724 columns]"
            ]
          },
          "execution_count": 9,
          "metadata": {},
          "output_type": "execute_result"
        }
      ],
      "source": [
        "#convert df_fix to a matrix:\n",
        "df_mx = df_fix[['userId', 'movieId', 'norm_rating']].copy()\n",
        "df_mx = df_mx.pivot_table(index='userId', columns='movieId', values='norm_rating', fill_value=0)\n",
        "df_mx.head(3)"
      ]
    },
    {
      "cell_type": "code",
      "execution_count": 10,
      "metadata": {
        "colab": {
          "base_uri": "https://localhost:8080/",
          "height": 143
        },
        "id": "71mp0pbO5N8y",
        "outputId": "d321e6cb-c58a-4c6c-dcd3-2a7a746afdea"
      },
      "outputs": [
        {
          "data": {
            "text/html": [
              "<div>\n",
              "<style scoped>\n",
              "    .dataframe tbody tr th:only-of-type {\n",
              "        vertical-align: middle;\n",
              "    }\n",
              "\n",
              "    .dataframe tbody tr th {\n",
              "        vertical-align: top;\n",
              "    }\n",
              "\n",
              "    .dataframe thead th {\n",
              "        text-align: right;\n",
              "    }\n",
              "</style>\n",
              "<table border=\"1\" class=\"dataframe\">\n",
              "  <thead>\n",
              "    <tr style=\"text-align: right;\">\n",
              "      <th></th>\n",
              "      <th>userId</th>\n",
              "      <th>movieId</th>\n",
              "      <th>rating</th>\n",
              "      <th>title</th>\n",
              "      <th>genres</th>\n",
              "      <th>norm_rating</th>\n",
              "    </tr>\n",
              "  </thead>\n",
              "  <tbody>\n",
              "    <tr>\n",
              "      <th>0</th>\n",
              "      <td>1</td>\n",
              "      <td>1</td>\n",
              "      <td>4.0</td>\n",
              "      <td>Toy Story (1995)</td>\n",
              "      <td>Adventure|Animation|Children|Comedy|Fantasy</td>\n",
              "      <td>-0.366379</td>\n",
              "    </tr>\n",
              "    <tr>\n",
              "      <th>1</th>\n",
              "      <td>1</td>\n",
              "      <td>3</td>\n",
              "      <td>4.0</td>\n",
              "      <td>Grumpier Old Men (1995)</td>\n",
              "      <td>Comedy|Romance</td>\n",
              "      <td>-0.366379</td>\n",
              "    </tr>\n",
              "    <tr>\n",
              "      <th>2</th>\n",
              "      <td>1</td>\n",
              "      <td>6</td>\n",
              "      <td>4.0</td>\n",
              "      <td>Heat (1995)</td>\n",
              "      <td>Action|Crime|Thriller</td>\n",
              "      <td>-0.366379</td>\n",
              "    </tr>\n",
              "  </tbody>\n",
              "</table>\n",
              "</div>"
            ],
            "text/plain": [
              "   userId  movieId  rating                    title  \\\n",
              "0       1        1     4.0         Toy Story (1995)   \n",
              "1       1        3     4.0  Grumpier Old Men (1995)   \n",
              "2       1        6     4.0              Heat (1995)   \n",
              "\n",
              "                                        genres  norm_rating  \n",
              "0  Adventure|Animation|Children|Comedy|Fantasy    -0.366379  \n",
              "1                               Comedy|Romance    -0.366379  \n",
              "2                        Action|Crime|Thriller    -0.366379  "
            ]
          },
          "execution_count": 10,
          "metadata": {},
          "output_type": "execute_result"
        }
      ],
      "source": [
        "df_fix.head(3)"
      ]
    },
    {
      "cell_type": "markdown",
      "metadata": {
        "id": "oItk23T5pAWm"
      },
      "source": [
        "To calculate the sparsity of the matrix and apply csr_matrix, which can saves memory by compressing all non-zero values together."
      ]
    },
    {
      "cell_type": "code",
      "execution_count": 11,
      "metadata": {
        "colab": {
          "base_uri": "https://localhost:8080/"
        },
        "id": "t4yU8tAppYOZ",
        "outputId": "d91b1966-21e9-4e77-f2e5-b28be6e2a87f"
      },
      "outputs": [
        {
          "name": "stdout",
          "output_type": "stream",
          "text": [
            "Original matrix sparsity: 98.30%\n"
          ]
        }
      ],
      "source": [
        "#Original matrix sparsity:\n",
        "total_elements = df_mx.size\n",
        "non_zero_elements = np.count_nonzero(df_mx)\n",
        "sparsity = 1 - (non_zero_elements / total_elements)\n",
        "print(f\"Original matrix sparsity: {sparsity * 100:.2f}%\")"
      ]
    },
    {
      "cell_type": "markdown",
      "metadata": {
        "id": "lTCtwBwXpd1K"
      },
      "source": [
        "Since 98.3% of the values are zeros in the matrix, we should definitely compress them to save memory."
      ]
    },
    {
      "cell_type": "code",
      "execution_count": 12,
      "metadata": {
        "id": "Cj1rjtNzR539"
      },
      "outputs": [
        {
          "data": {
            "text/html": [
              "<div>\n",
              "<style scoped>\n",
              "    .dataframe tbody tr th:only-of-type {\n",
              "        vertical-align: middle;\n",
              "    }\n",
              "\n",
              "    .dataframe tbody tr th {\n",
              "        vertical-align: top;\n",
              "    }\n",
              "\n",
              "    .dataframe thead th {\n",
              "        text-align: right;\n",
              "    }\n",
              "</style>\n",
              "<table border=\"1\" class=\"dataframe\">\n",
              "  <thead>\n",
              "    <tr style=\"text-align: right;\">\n",
              "      <th></th>\n",
              "      <th>userId</th>\n",
              "      <th>movieId</th>\n",
              "      <th>rating</th>\n",
              "      <th>title</th>\n",
              "      <th>genres</th>\n",
              "      <th>norm_rating</th>\n",
              "      <th>user_idx</th>\n",
              "      <th>movie_idx</th>\n",
              "    </tr>\n",
              "  </thead>\n",
              "  <tbody>\n",
              "    <tr>\n",
              "      <th>0</th>\n",
              "      <td>1</td>\n",
              "      <td>1</td>\n",
              "      <td>4.0</td>\n",
              "      <td>Toy Story (1995)</td>\n",
              "      <td>Adventure|Animation|Children|Comedy|Fantasy</td>\n",
              "      <td>-0.366379</td>\n",
              "      <td>0</td>\n",
              "      <td>0</td>\n",
              "    </tr>\n",
              "    <tr>\n",
              "      <th>1</th>\n",
              "      <td>1</td>\n",
              "      <td>3</td>\n",
              "      <td>4.0</td>\n",
              "      <td>Grumpier Old Men (1995)</td>\n",
              "      <td>Comedy|Romance</td>\n",
              "      <td>-0.366379</td>\n",
              "      <td>0</td>\n",
              "      <td>2</td>\n",
              "    </tr>\n",
              "    <tr>\n",
              "      <th>2</th>\n",
              "      <td>1</td>\n",
              "      <td>6</td>\n",
              "      <td>4.0</td>\n",
              "      <td>Heat (1995)</td>\n",
              "      <td>Action|Crime|Thriller</td>\n",
              "      <td>-0.366379</td>\n",
              "      <td>0</td>\n",
              "      <td>5</td>\n",
              "    </tr>\n",
              "  </tbody>\n",
              "</table>\n",
              "</div>"
            ],
            "text/plain": [
              "   userId  movieId  rating                    title  \\\n",
              "0       1        1     4.0         Toy Story (1995)   \n",
              "1       1        3     4.0  Grumpier Old Men (1995)   \n",
              "2       1        6     4.0              Heat (1995)   \n",
              "\n",
              "                                        genres  norm_rating  user_idx  \\\n",
              "0  Adventure|Animation|Children|Comedy|Fantasy    -0.366379         0   \n",
              "1                               Comedy|Romance    -0.366379         0   \n",
              "2                        Action|Crime|Thriller    -0.366379         0   \n",
              "\n",
              "   movie_idx  \n",
              "0          0  \n",
              "1          2  \n",
              "2          5  "
            ]
          },
          "execution_count": 12,
          "metadata": {},
          "output_type": "execute_result"
        }
      ],
      "source": [
        "#To map the userID and movieID index to match with the csr matrix:\n",
        "'''\n",
        "This is necessary for creating the sparse matrix correctly since the csr_matrix can move the indices.\n",
        "Here we will map the userId and movieId to indices that match the csr_matrix format.\n",
        "'''\n",
        "userID_idx = {uid: idx for idx, uid in enumerate(df_mx.index)}\n",
        "movieID_idx = {mid: idx for idx, mid in enumerate(df_mx.columns)}\n",
        "\n",
        "df_fix['user_idx'] = df_fix['userId'].map(userID_idx)\n",
        "df_fix['movie_idx'] = df_fix['movieId'].map(movieID_idx)\n",
        "\n",
        "#check the mapping:\n",
        "df_fix.head(3)\n"
      ]
    },
    {
      "cell_type": "markdown",
      "metadata": {
        "id": "JP9DfNPTm-94"
      },
      "source": [
        "We will compare how much storage reduction is done by the csr compression when compared to the original matrix:"
      ]
    },
    {
      "cell_type": "code",
      "execution_count": 13,
      "metadata": {
        "colab": {
          "base_uri": "https://localhost:8080/"
        },
        "id": "QOG8m9-hXDdn",
        "outputId": "af760609-dec8-4309-a684-802018753003"
      },
      "outputs": [
        {
          "name": "stdout",
          "output_type": "stream",
          "text": [
            "Original matrix storage: 47453120 bytes\n",
            "Sparse matrix storage: 1210032 bytes\n",
            "Storage reduction: 96.6%\n"
          ]
        }
      ],
      "source": [
        "#Apply csr matrix:\n",
        "csr_mx_norm = csr_matrix((df_fix['norm_rating'], (df_fix['user_idx'], df_fix['movie_idx'])))\n",
        "csr_mx = csr_matrix((df_fix['rating'], (df_fix['user_idx'], df_fix['movie_idx'])))\n",
        "\n",
        "#Check the storage reduction of the csr matrix:\n",
        "print(f\"Original matrix storage: {df_mx.size * 8} bytes\")\n",
        "print(f\"Sparse matrix storage: {csr_mx_norm.data.size * 8 + csr_mx_norm.indices.size * 4} bytes\")\n",
        "storage_reduction = (1 - (csr_mx_norm.data.size + csr_mx_norm.indices.size) / df_mx.size) * 100\n",
        "print(f\"Storage reduction: {storage_reduction:.1f}%\")\n"
      ]
    },
    {
      "cell_type": "markdown",
      "metadata": {
        "id": "DKjbbgfkruFJ"
      },
      "source": [
        "Here we will perform a latent factor search to determine the most optimal factorization, aiming to reduce the computation complexity while minimizing RMSE.\n",
        "\n",
        "    Single Value Decomposition(SVD) will break down a matrix into three vectors: U, S, and Vt\n",
        "    1) U is the left singular matrix representing users\n",
        "    2) S (sigma) is a diagonal matrix containing singular values in decreasing order. These values capture the importance of each latent feature.\n",
        "    3) Vt is the right singular matrix representing the items\n",
        "    4) By selecting k latent factor, we apply the truncated SVD, which reduces the original matrix complexity by retaining only the most important latent features.\n",
        "    5) By performing a dot product of these three matrices, we can reconstruct an approximation of the original matrix, balancing accuracy and computional efficiency."
      ]
    },
    {
      "cell_type": "code",
      "execution_count": 14,
      "metadata": {
        "colab": {
          "base_uri": "https://localhost:8080/",
          "height": 1000
        },
        "id": "aBN57aX6yVCd",
        "outputId": "1576f269-9d35-402d-ddb8-9f3a4099d3c1"
      },
      "outputs": [],
      "source": [
        "#Define the rows and cols from the original dataframe that will be used to compare with the predicted values:\n",
        "tru_row = df_fix['user_idx'].values #This extracts  all userIDs\n",
        "tru_col = df_fix['movie_idx'].values #This extracts all appIDs\n",
        "#Ratings\n",
        "tru_val_norm = df_fix['norm_rating'].values #This extracts the normalized ratings\n",
        "tru_val = df_fix['rating'].values #This extracts the raw ratings\n",
        "\n",
        "#Define parameters for the k and collect RMSE:\n",
        "k_norm_values=[]\n",
        "rmse_norm_values=[]\n",
        "\n",
        "#Define parameters for the k and collect RMSE:\n",
        "k_raw_values=[]\n",
        "rmse_raw_values=[]\n",
        "\n",
        "#Looping through k value to the maximum number of columns in the csr matrix:\n",
        "for k in range(1, min(csr_mx_norm.shape), 10):\n",
        "  u, s, vt = svds(csr_mx_norm, k=k)\n",
        "\n",
        "  #To reverse the array orders:\n",
        "  u = u[:, ::-1]\n",
        "  s = np.diag(s[::-1])\n",
        "  vt = vt[::-1, :]\n",
        "\n",
        "  #To re-combine all three factorized matrices back:\n",
        "  csr_mx_reconstructed = np.dot(np.dot(u, s), vt)\n",
        "\n",
        "  #To get the predicted values:\n",
        "  pred_scores = csr_mx_reconstructed[tru_row, tru_col]\n",
        "  #Calculate the RMSE\n",
        "  rmse = np.sqrt(mean_squared_error(tru_val_norm, pred_scores))\n",
        "\n",
        "  #Save the results:\n",
        "  k_norm_values.append(k)\n",
        "  rmse_norm_values.append(rmse)\n",
        "  \n",
        "#Looping through the k values for the original ratings:\n",
        "for k in range(1, min(csr_mx.shape), 10):\n",
        "  u, s, vt = svds(csr_mx, k=k)\n",
        "\n",
        "  #To reverse the array orders:\n",
        "  u = u[:, ::-1]\n",
        "  s = np.diag(s[::-1])\n",
        "  vt = vt[::-1, :]\n",
        "\n",
        "  #To re-combine all three factorized matrices back:\n",
        "  csr_mx_reconstructed = np.dot(np.dot(u, s), vt)\n",
        "\n",
        "  #To get the predicted values:\n",
        "  pred_scores = csr_mx_reconstructed[tru_row, tru_col]\n",
        "  #Calculate the RMSE\n",
        "  rmse = np.sqrt(mean_squared_error(tru_val, pred_scores))\n",
        "\n",
        "  #Save the results:\n",
        "  k_raw_values.append(k)\n",
        "  rmse_raw_values.append(rmse)\n",
        " "
      ]
    },
    {
      "cell_type": "markdown",
      "metadata": {
        "id": "IZvMAmaEAkzf"
      },
      "source": [
        "To visualize the change of k latent factor:\n",
        "\n",
        "1) The RMSE vs k plot shown below captures an expected result, where RMSE decreases exponentially as k increases.\n",
        "\n",
        "    One major reasons for such observation is because the entire dataset is used for the model training and no test or cross-validation set is available to assess the model performance.\n",
        "    Therefore, as the k value increases the model becomes increasingly overfitted as shown by the exponential decrease in RMSE, reconstructing the original dataframe.\n",
        "\n",
        "2) If we were to select the most optimal k value in this scenario, we would have to estimate a k values where increases it will only have lesser degree of change in RMSE.\n",
        "    In this case, k at 200 is a good estimation. Using the SVD method, the matrix complexity is reduced by roughly 2/3 (200/600 values).\n",
        "\n",
        "3) Notice how both normalized rating the raw ratings both showed same trend. However, the RMSE scales in the normalized ratings is much lower than the raw rating but the optimal k value is roughly the same.\n",
        "    In general, a normalized rating scale reduces user/item bias and thus produces a much better model perform but it sacrifices the ability to make interpretable predictions on the rating.\n",
        "    \n",
        "\n",
        "    "
      ]
    },
    {
      "cell_type": "code",
      "execution_count": 15,
      "metadata": {},
      "outputs": [
        {
          "data": {
            "image/png": "[encoded data removed]",
            "text/plain": [
              "<Figure size 640x480 with 1 Axes>"
            ]
          },
          "metadata": {},
          "output_type": "display_data"
        }
      ],
      "source": [
        "#Create subplots layouts:\n",
        "sns.lineplot(x=k_norm_values, y=rmse_norm_values, label='RMSE for Normalized Ratings', marker='o')\n",
        "sns.lineplot(x=k_raw_values, y=rmse_raw_values, label='RMSE for Raw Ratings', marker='s')\n",
        "plt.xlabel('k values')\n",
        "plt.ylabel('RMSE')\n",
        "plt.title('RMSE vs k values for Normalized and Raw Ratings')\n",
        "plt.legend()\n",
        "plt.grid(True)"
      ]
    },
    {
      "cell_type": "markdown",
      "metadata": {},
      "source": [
        "### Implementing train-test-split validation:"
      ]
    },
    {
      "cell_type": "markdown",
      "metadata": {},
      "source": [
        "We will apply csr_matrix and SVD to the train dataset using the un-normalized rating since we want to use the model to predict user ratings."
      ]
    },
    {
      "cell_type": "code",
      "execution_count": 16,
      "metadata": {},
      "outputs": [
        {
          "name": "stdout",
          "output_type": "stream",
          "text": [
            "Train set size: 80668\n",
            "Test set size: 20168\n"
          ]
        }
      ],
      "source": [
        "#To create a train split data set to validate the model:\n",
        "train, test = train_test_split(df_fix, test_size=0.2, random_state=41)\n",
        "print(f\"Train set size: {train.shape[0]}\")\n",
        "print(f\"Test set size: {test.shape[0]}\")\n",
        "\n",
        "#To create a dense matrix for the training set:\n",
        "train_row = train['user_idx'].values\n",
        "train_col = train['movie_idx'].values\n",
        "\n",
        "csr_train = csr_matrix((train['rating'], (train_row, train_col)))\n",
        "\n",
        "#Manual tuning of k for the training set:\n",
        "k_train_values = []\n",
        "rmse_train_values = []\n",
        "\n",
        "for k in range(1, 300, 5): #Computing half of the original matrix size\n",
        "    u_train, s_train, vt_train = svds(csr_train, k=k)\n",
        "    \n",
        "    #To reverse the array orders:\n",
        "    u_train = u_train[:, ::-1]\n",
        "    s_train = np.diag(s_train[::-1])\n",
        "    vt_train = vt_train[::-1, :]\n",
        "    \n",
        "    #To re-combine all three factorized matrices back:\n",
        "    csr_train_reconstructed = np.dot(np.dot(u_train, s_train), vt_train)\n",
        "    \n",
        "    #To get the predicted values for the test set:\n",
        "    pred_scores_train = csr_train_reconstructed[test['user_idx'].values, test['movie_idx'].values]\n",
        "    \n",
        "    #Calculate the RMSE\n",
        "    rmse_train = np.sqrt(mean_squared_error(test['rating'], pred_scores_train))\n",
        "    \n",
        "    #Save the results:\n",
        "    rmse_train_values.append(rmse_train)\n",
        "    k_train_values.append(k)\n",
        "    \n"
      ]
    },
    {
      "cell_type": "code",
      "execution_count": 20,
      "metadata": {},
      "outputs": [
        {
          "data": {
            "image/png": "[encoded data removed]",
            "text/plain": [
              "<Figure size 640x480 with 1 Axes>"
            ]
          },
          "metadata": {},
          "output_type": "display_data"
        }
      ],
      "source": [
        "#To visualize the results:\n",
        "sns.lineplot(x=k_train_values, y=rmse_train_values, marker='o')\n",
        "plt.xlabel('k values')\n",
        "plt.ylabel('RMSE')\n",
        "plt.title('RMSE vs k values for Normalized and Raw Ratings')\n",
        "plt.grid(True)"
      ]
    },
    {
      "cell_type": "markdown",
      "metadata": {},
      "source": [
        "1) Elbow Point and Optimal k Selection\n",
        "\n",
        "    The RMSE vs. k plot shown above reveals a clear **elbow point**, where the RMSE reaches its minimum before starting to increase again.\n",
        "\n",
        "        The value of k at this elbow is considered the optimal number of latent factors. In this case, the optimal k is approximately 6.\n",
        "\n",
        "2) Importance of Validation to Prevent Overfitting\n",
        "\n",
        "    This example highlights the importance of using internal validation (such as train-test splits or cross-validation) to detect overfitting.\n",
        "\n",
        "        As k increases beyond 6, the model begins to overfit — capturing noise rather than         generalizable patterns — leading to worsening RMSE on test data.\n",
        "\n",
        "3) Ways to improve SVD model:\n",
        "    \n",
        "    SVD models can be improved further with techniques like cross-validation and regularization:\n",
        "\n",
        "    Cross-validation:\n",
        "        \n",
        "        It offers a more robust alternative to a simple train-test split by repeatedly dividing the dataset into folds, training on subsets, and evaluating on holdouts. The final RMSE is averaged across all folds, providing a more reliable performance estimate.\n",
        "\n",
        "    Regularization:\n",
        "    \n",
        "        In addition to cross-validation, regularization helps prevent overfitting by penalizing large latent factor values during training. These large values often arise due to user/item biases or noise. Regularization reduces their impact, leading to a more stable and generalizable model."
      ]
    },
    {
      "cell_type": "markdown",
      "metadata": {},
      "source": [
        "#### Generate rating predictions and top-N recommendations using k = 6:\n",
        "\n",
        "\n",
        "\n"
      ]
    },
    {
      "cell_type": "code",
      "execution_count": 18,
      "metadata": {},
      "outputs": [],
      "source": [
        "#First we create the SVD model with the best k value:\n",
        "svd_u, svd_s, svd_vt = svds(csr_train, k=6)\n",
        "\n",
        "#To reverse the array orders:\n",
        "svd_u = svd_u[:, ::-1]\n",
        "svd_s = np.diag(svd_s[::-1])\n",
        "svd_vt = svd_vt[::-1, :]\n",
        "\n",
        "#To re-combine all three factorized matrices back and get the dataframe of the predicted ratings:\n",
        "svd_recon = np.dot(np.dot(svd_u, svd_s), svd_vt)\n",
        "svd_recon_df = pd.DataFrame(svd_recon, index=df_mx.index, columns=df_mx.columns)\n"
      ]
    },
    {
      "cell_type": "markdown",
      "metadata": {},
      "source": [
        "**For example: we want to generate top-5 movies that userId 1 has never watched before.**"
      ]
    },
    {
      "cell_type": "code",
      "execution_count": 19,
      "metadata": {},
      "outputs": [
        {
          "name": "stdout",
          "output_type": "stream",
          "text": [
            "UserId 1 would rate the following movies the higest:\n",
            " Aliens (1986): 2.748\n",
            " Terminator 2: Judgment Day (1991): 2.505\n",
            " Godfather, The (1972): 2.477\n",
            " Die Hard (1988): 2.453\n",
            " Sixth Sense, The (1999): 2.394\n"
          ]
        }
      ],
      "source": [
        "user_id = 1  # Example user ID to predict ratings for specific user\n",
        "\n",
        "# Get a list of movie idx/ID that user 1 has never rated:\n",
        "u1_unrated = df_mx.loc[user_id][df_mx.loc[user_id] == 0].index.tolist()\n",
        "\n",
        "#To get the predicted ratings for user 1 for the unrated movies:\n",
        "pred_ratings_u1 = svd_recon_df.loc[user_id, u1_unrated].nlargest(5)\n",
        "\n",
        "#To geth the movie names for the predicted ratings:\n",
        "u1_movie_names = df_fix[df_fix['movieId'].isin(pred_ratings_u1.index)]['title'].unique()\n",
        "\n",
        "rec_movies = (\n",
        "    df_fix[['movieId', 'title']].\n",
        "    drop_duplicates()\n",
        "    .set_index('movieId')\n",
        "    .loc[pred_ratings_u1.index]\n",
        "    ['title']\n",
        "    .tolist()\n",
        ")\n",
        "\n",
        "print(f'UserId {user_id} would rate the following movies the higest:')\n",
        "for movie, rating in zip(rec_movies, pred_ratings_u1.values):\n",
        "    print(f' {movie}: {rating:.3f}')"
      ]
    },
    {
      "cell_type": "markdown",
      "metadata": {},
      "source": [
        "Reasons to choose SVD:\n",
        "\n",
        "1) Excels in analyzing explicit dataset such as item/produce ratings.\n",
        "2) Simple and easy to implement for small to medium dataset.\n",
        "3) The decomposed matrices can be visualized."
      ]
    },
    {
      "cell_type": "markdown",
      "metadata": {},
      "source": [
        "Limitations on SVD models:\n",
        "1) Requires dense matrix for computation\n",
        "2) Overfitting is a concern as shown in the example above. SVD models can benefit from tuning and regularizations as explained above.\n",
        "3) The interpretability of the reconstructed matrix is limited and requires carefully aligning the indices"
      ]
    }
  ],
  "metadata": {
    "colab": {
      "provenance": []
    },
    "kernelspec": {
      "display_name": "Python 3",
      "name": "python3"
    },
    "language_info": {
      "codemirror_mode": {
        "name": "ipython",
        "version": 3
      },
      "file_extension": ".py",
      "mimetype": "text/x-python",
      "name": "python",
      "nbconvert_exporter": "python",
      "pygments_lexer": "ipython3",
      "version": "3.11.9"
    }
  },
  "nbformat": 4,
  "nbformat_minor": 0
}

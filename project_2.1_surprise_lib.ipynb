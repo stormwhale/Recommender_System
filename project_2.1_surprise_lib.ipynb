{
 "cells": [
  {
   "cell_type": "code",
   "execution_count": 1,
   "id": "8013c3ab",
   "metadata": {},
   "outputs": [],
   "source": [
    "import pandas as pd\n",
    "import numpy as np\n",
    "from surprise import SVD, Dataset, Reader, KNNBasic, KNNWithMeans\n",
    "from surprise.model_selection import train_test_split\n",
    "from surprise import accuracy\n",
    "import matplotlib.pyplot as plt\n",
    "import seaborn as sns\n"
   ]
  },
  {
   "cell_type": "markdown",
   "id": "17a60592",
   "metadata": {},
   "source": [
    "## Project 2\n",
    "In this project, the Jester dataset is used to train and generate top 5 joke recommendations for a specific user.\n",
    "Due to the shear volume, we will be randomly selecting only 100 jokes and use user-item collaborative filtering (CF), specifically comparing user-user and item-item CF with normalized and un-normalized data."
   ]
  },
  {
   "cell_type": "markdown",
   "id": "87395063",
   "metadata": {},
   "source": [
    "### Loading and randomly selecting only 100 samples from the jester dataset:\n",
    "Rating scale = -10 to 10"
   ]
  },
  {
   "cell_type": "code",
   "execution_count": 2,
   "id": "eef4d4f5",
   "metadata": {},
   "outputs": [
    {
     "data": {
      "text/html": [
       "<div>\n",
       "<style scoped>\n",
       "    .dataframe tbody tr th:only-of-type {\n",
       "        vertical-align: middle;\n",
       "    }\n",
       "\n",
       "    .dataframe tbody tr th {\n",
       "        vertical-align: top;\n",
       "    }\n",
       "\n",
       "    .dataframe thead th {\n",
       "        text-align: right;\n",
       "    }\n",
       "</style>\n",
       "<table border=\"1\" class=\"dataframe\">\n",
       "  <thead>\n",
       "    <tr style=\"text-align: right;\">\n",
       "      <th></th>\n",
       "      <th>1</th>\n",
       "      <th>2</th>\n",
       "      <th>3</th>\n",
       "      <th>4</th>\n",
       "      <th>5</th>\n",
       "      <th>6</th>\n",
       "      <th>7</th>\n",
       "      <th>8</th>\n",
       "      <th>9</th>\n",
       "      <th>10</th>\n",
       "      <th>...</th>\n",
       "      <th>91</th>\n",
       "      <th>92</th>\n",
       "      <th>93</th>\n",
       "      <th>94</th>\n",
       "      <th>95</th>\n",
       "      <th>96</th>\n",
       "      <th>97</th>\n",
       "      <th>98</th>\n",
       "      <th>99</th>\n",
       "      <th>100</th>\n",
       "    </tr>\n",
       "  </thead>\n",
       "  <tbody>\n",
       "    <tr>\n",
       "      <th>3995</th>\n",
       "      <td>NaN</td>\n",
       "      <td>NaN</td>\n",
       "      <td>NaN</td>\n",
       "      <td>NaN</td>\n",
       "      <td>-2.82</td>\n",
       "      <td>NaN</td>\n",
       "      <td>-0.83</td>\n",
       "      <td>-3.16</td>\n",
       "      <td>NaN</td>\n",
       "      <td>NaN</td>\n",
       "      <td>...</td>\n",
       "      <td>2.04</td>\n",
       "      <td>NaN</td>\n",
       "      <td>1.26</td>\n",
       "      <td>NaN</td>\n",
       "      <td>NaN</td>\n",
       "      <td>-0.63</td>\n",
       "      <td>NaN</td>\n",
       "      <td>NaN</td>\n",
       "      <td>NaN</td>\n",
       "      <td>NaN</td>\n",
       "    </tr>\n",
       "    <tr>\n",
       "      <th>18976</th>\n",
       "      <td>NaN</td>\n",
       "      <td>NaN</td>\n",
       "      <td>NaN</td>\n",
       "      <td>NaN</td>\n",
       "      <td>2.52</td>\n",
       "      <td>NaN</td>\n",
       "      <td>6.80</td>\n",
       "      <td>2.48</td>\n",
       "      <td>NaN</td>\n",
       "      <td>NaN</td>\n",
       "      <td>...</td>\n",
       "      <td>NaN</td>\n",
       "      <td>NaN</td>\n",
       "      <td>NaN</td>\n",
       "      <td>NaN</td>\n",
       "      <td>NaN</td>\n",
       "      <td>NaN</td>\n",
       "      <td>NaN</td>\n",
       "      <td>NaN</td>\n",
       "      <td>NaN</td>\n",
       "      <td>NaN</td>\n",
       "    </tr>\n",
       "    <tr>\n",
       "      <th>17462</th>\n",
       "      <td>NaN</td>\n",
       "      <td>NaN</td>\n",
       "      <td>NaN</td>\n",
       "      <td>NaN</td>\n",
       "      <td>-4.85</td>\n",
       "      <td>NaN</td>\n",
       "      <td>-7.43</td>\n",
       "      <td>-7.86</td>\n",
       "      <td>NaN</td>\n",
       "      <td>NaN</td>\n",
       "      <td>...</td>\n",
       "      <td>-8.30</td>\n",
       "      <td>NaN</td>\n",
       "      <td>NaN</td>\n",
       "      <td>NaN</td>\n",
       "      <td>NaN</td>\n",
       "      <td>NaN</td>\n",
       "      <td>NaN</td>\n",
       "      <td>-9.95</td>\n",
       "      <td>NaN</td>\n",
       "      <td>NaN</td>\n",
       "    </tr>\n",
       "    <tr>\n",
       "      <th>16367</th>\n",
       "      <td>NaN</td>\n",
       "      <td>NaN</td>\n",
       "      <td>NaN</td>\n",
       "      <td>NaN</td>\n",
       "      <td>-1.12</td>\n",
       "      <td>NaN</td>\n",
       "      <td>0.58</td>\n",
       "      <td>-3.74</td>\n",
       "      <td>NaN</td>\n",
       "      <td>NaN</td>\n",
       "      <td>...</td>\n",
       "      <td>NaN</td>\n",
       "      <td>NaN</td>\n",
       "      <td>NaN</td>\n",
       "      <td>NaN</td>\n",
       "      <td>NaN</td>\n",
       "      <td>3.54</td>\n",
       "      <td>NaN</td>\n",
       "      <td>NaN</td>\n",
       "      <td>NaN</td>\n",
       "      <td>NaN</td>\n",
       "    </tr>\n",
       "    <tr>\n",
       "      <th>17752</th>\n",
       "      <td>NaN</td>\n",
       "      <td>NaN</td>\n",
       "      <td>NaN</td>\n",
       "      <td>NaN</td>\n",
       "      <td>-9.08</td>\n",
       "      <td>NaN</td>\n",
       "      <td>-8.06</td>\n",
       "      <td>-7.33</td>\n",
       "      <td>NaN</td>\n",
       "      <td>NaN</td>\n",
       "      <td>...</td>\n",
       "      <td>NaN</td>\n",
       "      <td>NaN</td>\n",
       "      <td>NaN</td>\n",
       "      <td>NaN</td>\n",
       "      <td>NaN</td>\n",
       "      <td>NaN</td>\n",
       "      <td>-6.8</td>\n",
       "      <td>NaN</td>\n",
       "      <td>NaN</td>\n",
       "      <td>NaN</td>\n",
       "    </tr>\n",
       "  </tbody>\n",
       "</table>\n",
       "<p>5 rows × 100 columns</p>\n",
       "</div>"
      ],
      "text/plain": [
       "       1    2    3    4     5    6     7     8    9    10   ...   91   92   \\\n",
       "3995   NaN  NaN  NaN  NaN -2.82  NaN -0.83 -3.16  NaN  NaN  ...  2.04  NaN   \n",
       "18976  NaN  NaN  NaN  NaN  2.52  NaN  6.80  2.48  NaN  NaN  ...   NaN  NaN   \n",
       "17462  NaN  NaN  NaN  NaN -4.85  NaN -7.43 -7.86  NaN  NaN  ... -8.30  NaN   \n",
       "16367  NaN  NaN  NaN  NaN -1.12  NaN  0.58 -3.74  NaN  NaN  ...   NaN  NaN   \n",
       "17752  NaN  NaN  NaN  NaN -9.08  NaN -8.06 -7.33  NaN  NaN  ...   NaN  NaN   \n",
       "\n",
       "        93   94   95    96   97    98   99   100  \n",
       "3995   1.26  NaN  NaN -0.63  NaN   NaN  NaN  NaN  \n",
       "18976   NaN  NaN  NaN   NaN  NaN   NaN  NaN  NaN  \n",
       "17462   NaN  NaN  NaN   NaN  NaN -9.95  NaN  NaN  \n",
       "16367   NaN  NaN  NaN  3.54  NaN   NaN  NaN  NaN  \n",
       "17752   NaN  NaN  NaN   NaN -6.8   NaN  NaN  NaN  \n",
       "\n",
       "[5 rows x 100 columns]"
      ]
     },
     "execution_count": 2,
     "metadata": {},
     "output_type": "execute_result"
    }
   ],
   "source": [
    "url='https://raw.githubusercontent.com/stormwhale/data-mines/refs/heads/main/jester-data-3.csv'\n",
    "\n",
    "jokes = pd.read_csv(url, header=None)\n",
    "\n",
    "#We will sample only 100 ratings for faster training:\n",
    "jokes100 = jokes.sample(100, random_state=42)\n",
    "\n",
    "#Removing the first column as it is not needed for the model:\n",
    "jokes100 =jokes100.drop(columns=[0])\n",
    "\n",
    "#the value 99 is used to indicate that the user did not rate the joke:\n",
    "#We will replace those values with NaN:\n",
    "jokes100 = jokes100.replace(99, np.nan)\n",
    "\n",
    "#Visualize the data:\n",
    "jokes100.head(5)"
   ]
  },
  {
   "cell_type": "markdown",
   "id": "6ef15da3",
   "metadata": {},
   "source": [
    "### To rename the columns and rows:"
   ]
  },
  {
   "cell_type": "code",
   "execution_count": 3,
   "id": "5b2766be",
   "metadata": {},
   "outputs": [],
   "source": [
    "#To name the columns:\n",
    "jokes100.columns = [f'j{i}' for i in range(1,100)] + ['userID']\n",
    "\n",
    "#To add the userID column:\n",
    "jokes100['userID'] = range(1, len(jokes100)+1)"
   ]
  },
  {
   "cell_type": "markdown",
   "id": "d467586c",
   "metadata": {},
   "source": [
    "### Converting the dataframe to a long format:"
   ]
  },
  {
   "cell_type": "code",
   "execution_count": 4,
   "id": "89a7497f",
   "metadata": {},
   "outputs": [
    {
     "data": {
      "text/plain": [
       "userID     0\n",
       "jokesID    0\n",
       "rating     0\n",
       "dtype: int64"
      ]
     },
     "execution_count": 4,
     "metadata": {},
     "output_type": "execute_result"
    }
   ],
   "source": [
    "#Converting the DataFrame to a long format:\n",
    "joke100_long = jokes100.melt(id_vars='userID', var_name='jokesID', value_name='rating')\n",
    "\n",
    "#Remove rows with NaN values:\n",
    "joke100_long_no_na = joke100_long.dropna()\n",
    "\n",
    "#No confirm if NA values left:\n",
    "joke100_long_no_na.isna().sum()\n"
   ]
  },
  {
   "cell_type": "code",
   "execution_count": 5,
   "id": "5a4d47a9",
   "metadata": {},
   "outputs": [
    {
     "data": {
      "text/html": [
       "<div>\n",
       "<style scoped>\n",
       "    .dataframe tbody tr th:only-of-type {\n",
       "        vertical-align: middle;\n",
       "    }\n",
       "\n",
       "    .dataframe tbody tr th {\n",
       "        vertical-align: top;\n",
       "    }\n",
       "\n",
       "    .dataframe thead th {\n",
       "        text-align: right;\n",
       "    }\n",
       "</style>\n",
       "<table border=\"1\" class=\"dataframe\">\n",
       "  <thead>\n",
       "    <tr style=\"text-align: right;\">\n",
       "      <th></th>\n",
       "      <th>userID</th>\n",
       "      <th>jokesID</th>\n",
       "      <th>rating</th>\n",
       "    </tr>\n",
       "  </thead>\n",
       "  <tbody>\n",
       "    <tr>\n",
       "      <th>121</th>\n",
       "      <td>22</td>\n",
       "      <td>j2</td>\n",
       "      <td>-3.98</td>\n",
       "    </tr>\n",
       "    <tr>\n",
       "      <th>133</th>\n",
       "      <td>34</td>\n",
       "      <td>j2</td>\n",
       "      <td>0.97</td>\n",
       "    </tr>\n",
       "    <tr>\n",
       "      <th>400</th>\n",
       "      <td>1</td>\n",
       "      <td>j5</td>\n",
       "      <td>-2.82</td>\n",
       "    </tr>\n",
       "    <tr>\n",
       "      <th>401</th>\n",
       "      <td>2</td>\n",
       "      <td>j5</td>\n",
       "      <td>2.52</td>\n",
       "    </tr>\n",
       "    <tr>\n",
       "      <th>402</th>\n",
       "      <td>3</td>\n",
       "      <td>j5</td>\n",
       "      <td>-4.85</td>\n",
       "    </tr>\n",
       "  </tbody>\n",
       "</table>\n",
       "</div>"
      ],
      "text/plain": [
       "     userID jokesID  rating\n",
       "121      22      j2   -3.98\n",
       "133      34      j2    0.97\n",
       "400       1      j5   -2.82\n",
       "401       2      j5    2.52\n",
       "402       3      j5   -4.85"
      ]
     },
     "execution_count": 5,
     "metadata": {},
     "output_type": "execute_result"
    }
   ],
   "source": [
    "joke100_long_no_na.head(5)"
   ]
  },
  {
   "cell_type": "markdown",
   "id": "fd9180c7",
   "metadata": {},
   "source": [
    "### Exploratory data:"
   ]
  },
  {
   "cell_type": "code",
   "execution_count": 6,
   "id": "575f2d0f",
   "metadata": {},
   "outputs": [
    {
     "data": {
      "image/png": "[encoded data removed]",
      "text/plain": [
       "<Figure size 500x500 with 1 Axes>"
      ]
     },
     "metadata": {},
     "output_type": "display_data"
    }
   ],
   "source": [
    "sns.displot(joke100_long_no_na['rating'])\n",
    "plt.title('Distribution of Ratings')\n",
    "plt.show()"
   ]
  },
  {
   "cell_type": "markdown",
   "id": "eea04470",
   "metadata": {},
   "source": [
    "The ratings has a slight left skewness. Let's try to normalize the data to improve the distribution."
   ]
  },
  {
   "cell_type": "markdown",
   "id": "96ec4b65",
   "metadata": {},
   "source": [
    "### To normalize the Data:"
   ]
  },
  {
   "cell_type": "code",
   "execution_count": 7,
   "id": "8a08e672",
   "metadata": {},
   "outputs": [],
   "source": [
    "#Finding the mean rating for each user:\n",
    "jk_mean = joke100_long_no_na.groupby('userID')['rating'].mean().reset_index()\n",
    "joke100_norm = joke100_long_no_na.merge(jk_mean, on='userID', suffixes=('', '_mean'))\n",
    "joke100_norm['normalized_rating'] = joke100_norm['rating'] - joke100_norm['rating_mean']"
   ]
  },
  {
   "cell_type": "code",
   "execution_count": 8,
   "id": "b2a40164",
   "metadata": {},
   "outputs": [
    {
     "data": {
      "text/html": [
       "<div>\n",
       "<style scoped>\n",
       "    .dataframe tbody tr th:only-of-type {\n",
       "        vertical-align: middle;\n",
       "    }\n",
       "\n",
       "    .dataframe tbody tr th {\n",
       "        vertical-align: top;\n",
       "    }\n",
       "\n",
       "    .dataframe thead th {\n",
       "        text-align: right;\n",
       "    }\n",
       "</style>\n",
       "<table border=\"1\" class=\"dataframe\">\n",
       "  <thead>\n",
       "    <tr style=\"text-align: right;\">\n",
       "      <th></th>\n",
       "      <th>userID</th>\n",
       "      <th>jokesID</th>\n",
       "      <th>rating</th>\n",
       "      <th>rating_mean</th>\n",
       "      <th>normalized_rating</th>\n",
       "    </tr>\n",
       "  </thead>\n",
       "  <tbody>\n",
       "    <tr>\n",
       "      <th>0</th>\n",
       "      <td>22</td>\n",
       "      <td>j2</td>\n",
       "      <td>-3.98</td>\n",
       "      <td>-3.823824</td>\n",
       "      <td>-0.156176</td>\n",
       "    </tr>\n",
       "    <tr>\n",
       "      <th>1</th>\n",
       "      <td>34</td>\n",
       "      <td>j2</td>\n",
       "      <td>0.97</td>\n",
       "      <td>-1.379697</td>\n",
       "      <td>2.349697</td>\n",
       "    </tr>\n",
       "    <tr>\n",
       "      <th>2</th>\n",
       "      <td>1</td>\n",
       "      <td>j5</td>\n",
       "      <td>-2.82</td>\n",
       "      <td>-0.162500</td>\n",
       "      <td>-2.657500</td>\n",
       "    </tr>\n",
       "    <tr>\n",
       "      <th>3</th>\n",
       "      <td>2</td>\n",
       "      <td>j5</td>\n",
       "      <td>2.52</td>\n",
       "      <td>2.226800</td>\n",
       "      <td>0.293200</td>\n",
       "    </tr>\n",
       "    <tr>\n",
       "      <th>4</th>\n",
       "      <td>3</td>\n",
       "      <td>j5</td>\n",
       "      <td>-4.85</td>\n",
       "      <td>-4.567391</td>\n",
       "      <td>-0.282609</td>\n",
       "    </tr>\n",
       "  </tbody>\n",
       "</table>\n",
       "</div>"
      ],
      "text/plain": [
       "   userID jokesID  rating  rating_mean  normalized_rating\n",
       "0      22      j2   -3.98    -3.823824          -0.156176\n",
       "1      34      j2    0.97    -1.379697           2.349697\n",
       "2       1      j5   -2.82    -0.162500          -2.657500\n",
       "3       2      j5    2.52     2.226800           0.293200\n",
       "4       3      j5   -4.85    -4.567391          -0.282609"
      ]
     },
     "execution_count": 8,
     "metadata": {},
     "output_type": "execute_result"
    }
   ],
   "source": [
    "joke100_norm.head()"
   ]
  },
  {
   "cell_type": "markdown",
   "id": "96665837",
   "metadata": {},
   "source": [
    "### Viewing the rating histogram after normalization:"
   ]
  },
  {
   "cell_type": "code",
   "execution_count": 9,
   "id": "f42cf07d",
   "metadata": {},
   "outputs": [
    {
     "data": {
      "image/png": "[encoded data removed]",
      "text/plain": [
       "<Figure size 500x500 with 1 Axes>"
      ]
     },
     "metadata": {},
     "output_type": "display_data"
    }
   ],
   "source": [
    "sns.displot(joke100_norm['normalized_rating'])\n",
    "plt.title('Distribution of Normalized Ratings')\n",
    "plt.show()"
   ]
  },
  {
   "cell_type": "markdown",
   "id": "b47e8e9e",
   "metadata": {},
   "source": [
    "### Use Surprise library to compute the user-based collabrative filtering:"
   ]
  },
  {
   "cell_type": "code",
   "execution_count": 10,
   "id": "b1bcc159",
   "metadata": {},
   "outputs": [],
   "source": [
    "#loading data into Surprise format:\n",
    "reader = Reader(rating_scale=(-10, 10))\n",
    "#Creating a Surprise dataset from the DataFrame:\n",
    "data = Dataset.load_from_df(joke100_long_no_na[['userID', 'jokesID', 'rating']], reader)\n"
   ]
  },
  {
   "cell_type": "markdown",
   "id": "feecf8d1",
   "metadata": {},
   "source": [
    "### Split data and define the model:"
   ]
  },
  {
   "cell_type": "code",
   "execution_count": 11,
   "id": "6baca988",
   "metadata": {},
   "outputs": [
    {
     "name": "stdout",
     "output_type": "stream",
     "text": [
      "Computing the cosine similarity matrix...\n",
      "Done computing similarity matrix.\n",
      "Computing the cosine similarity matrix...\n",
      "Done computing similarity matrix.\n"
     ]
    },
    {
     "data": {
      "text/plain": [
       "<surprise.prediction_algorithms.knns.KNNWithMeans at 0x201e4cea110>"
      ]
     },
     "execution_count": 11,
     "metadata": {},
     "output_type": "execute_result"
    }
   ],
   "source": [
    "#Splitting the dataset into training and testing sets:\n",
    "trainset, testset = train_test_split(data, test_size=0.2, random_state=42)\n",
    "\n",
    "#Define the parameters of the KNN model with Cosine similary and user-user collaborative filtering:\n",
    "sim_opt = {\n",
    "    'name': 'cosine',\n",
    "    'user_based': True,\n",
    "    'min_support': 2}# Compute similarities between users\n",
    " \n",
    "\n",
    "#Define the KNNBasic without normalization:\n",
    "algo = KNNBasic(sim_options=sim_opt)\n",
    "algo.fit(trainset)\n",
    "\n",
    "#Define normalized user-user collaborative filtering model:\n",
    "algo_norm = KNNWithMeans(sim_options=sim_opt) #We can use KNNWithMeans\n",
    "algo_norm.fit(trainset)"
   ]
  },
  {
   "cell_type": "markdown",
   "id": "e7838424",
   "metadata": {},
   "source": [
    "### To make prediction:"
   ]
  },
  {
   "cell_type": "code",
   "execution_count": 12,
   "id": "f48c4e53",
   "metadata": {},
   "outputs": [
    {
     "name": "stdout",
     "output_type": "stream",
     "text": [
      "RMSE for un-normalized model: 5.068\n",
      "RMSE for normalized model: 4.818\n"
     ]
    }
   ],
   "source": [
    "#Predictions for un-normalized model:\n",
    "predictions = algo.test(testset)\n",
    "rmse = accuracy.rmse(predictions, verbose=False)\n",
    "\n",
    "#Predictions for normalized model:\n",
    "predictions_norm = algo_norm.test(testset)\n",
    "rmse_norm = accuracy.rmse(predictions_norm, verbose=False)\n",
    "print(f'RMSE for un-normalized model: {rmse:.3f}\\nRMSE for normalized model: {rmse_norm:.3f}')"
   ]
  },
  {
   "cell_type": "markdown",
   "id": "51052dc7",
   "metadata": {},
   "source": [
    "The normalized data showed better RMSE than the un-normalized data. We will implement normalized data."
   ]
  },
  {
   "cell_type": "markdown",
   "id": "32a6b06b",
   "metadata": {},
   "source": [
    "### To predict the top 5 jokes that user1 will likely enjoy:"
   ]
  },
  {
   "cell_type": "code",
   "execution_count": 13,
   "id": "4e81463c",
   "metadata": {},
   "outputs": [
    {
     "name": "stdout",
     "output_type": "stream",
     "text": [
      "Joke j40 with estimated rating: 6.438\n",
      "Joke j72 with estimated rating: 6.054\n",
      "Joke j87 with estimated rating: 4.322\n",
      "Joke j38 with estimated rating: 4.043\n",
      "Joke j88 with estimated rating: 3.919\n"
     ]
    }
   ],
   "source": [
    "#Define a function to get top 5 jokes for a user based on the normalized model:\n",
    "def get_top_5_jokes(algo_norm, user_id, joke_list, known_jokes, n=5):\n",
    "    \"\"\"# known_jokes = set of jokes user has already rated\n",
    "\n",
    "    # Predict rating for each joke the user hasn't rated yet\n",
    "    \"\"\"\n",
    "    prediction = []\n",
    "    for joke_id in joke_list:\n",
    "        if joke_id not in known_jokes:\n",
    "            pred = algo_norm.predict(user_id, joke_id)\n",
    "            prediction.append((joke_id, pred.est))\n",
    "    # Sort predictions by estimated rating in descending order\n",
    "    prediction.sort(key = lambda x: x[1], reverse=True)\n",
    "    return prediction[:n]\n",
    "\n",
    "#Define target user:\n",
    "user_id=1\n",
    "\n",
    "#To get all jokeIDs only:\n",
    "all_jokes = joke100_long['jokesID'].unique()\n",
    "\n",
    "user_id=1\n",
    "user_rated_jokes = set(\n",
    "    joke100_long[\n",
    "        (joke100_long['userID'] == user_id) &\n",
    "        (joke100_long['rating'].notna())\n",
    "    ]['jokesID']\n",
    ")\n",
    "\n",
    "# Generate top 5 recommendations\n",
    "top_5 = get_top_5_jokes(algo_norm, user_id, all_jokes, user_rated_jokes, n=5)\n",
    "#To print the top 5 jokes:\n",
    "for i, (joke_id, est_rating) in enumerate(top_5, start=1):\n",
    "    print(f'Joke {joke_id} with estimated rating: {est_rating:.3f}')"
   ]
  },
  {
   "cell_type": "markdown",
   "id": "d606ec62",
   "metadata": {},
   "source": [
    "To predict a joke rating for User1 and joke40, which was not rated by user1.\n",
    "We will also recommend top 5 jokes that user1 might potentially like as rated by users who are similar to user1"
   ]
  },
  {
   "cell_type": "code",
   "execution_count": 14,
   "id": "a985af96",
   "metadata": {},
   "outputs": [
    {
     "name": "stdout",
     "output_type": "stream",
     "text": [
      "User1 will potentially rate joke40: 6.438\n"
     ]
    }
   ],
   "source": [
    "#Let's predict the rating for j1 for user 1:\n",
    "userID = 1\n",
    "jokesID = 'j40'\n",
    "predicted_rating = algo_norm.predict(userID, jokesID).est\n",
    "print(f'User1 will potentially rate joke40: {predicted_rating:.3f}')"
   ]
  },
  {
   "cell_type": "markdown",
   "id": "1e52f756",
   "metadata": {},
   "source": [
    "The signle prediction confirms with the top recommending jokes estimated rating score."
   ]
  },
  {
   "cell_type": "markdown",
   "id": "d03dfb3e",
   "metadata": {},
   "source": [
    "### Item-item collaborative filtering for jokes"
   ]
  },
  {
   "cell_type": "code",
   "execution_count": 18,
   "id": "0dc1c63f",
   "metadata": {},
   "outputs": [
    {
     "name": "stdout",
     "output_type": "stream",
     "text": [
      "Computing the cosine similarity matrix...\n",
      "Done computing similarity matrix.\n"
     ]
    }
   ],
   "source": [
    "#Define the sim_opt:\n",
    "sim_opt_item = {\n",
    "    'name': 'cosine', #Use cosine similarity\n",
    "    'user_based': False,\n",
    "    'min_support': 2 # setting min_support to 2 means that an item must be rated by at least 2 users to be considered in the similarity calculation\n",
    "}\n",
    "\n",
    "#Define the KNN model with normalization:\n",
    "algo_item_norm = KNNWithMeans(sim_options=sim_opt_item)\n",
    "#Fit the model:\n",
    "algo_item_norm.fit(trainset)\n",
    "#Predictions for the item-based normalized model:\n",
    "predictions_item_norm = algo_item_norm.test(testset)"
   ]
  },
  {
   "cell_type": "code",
   "execution_count": 19,
   "id": "ceeae057",
   "metadata": {},
   "outputs": [
    {
     "name": "stdout",
     "output_type": "stream",
     "text": [
      "RMSE for item-based normalized model: 4.822\n"
     ]
    }
   ],
   "source": [
    "#Generate RMSE for the item-based normalized model:\n",
    "rmse_item_norm = accuracy.rmse(predictions_item_norm, verbose=False)\n",
    "print(f'RMSE for item-based normalized model: {rmse_item_norm:.3f}')"
   ]
  },
  {
   "cell_type": "markdown",
   "id": "b68a0b4e",
   "metadata": {},
   "source": [
    "### Checking to see if item-item CF will generate the same top 5 jokes for user1"
   ]
  },
  {
   "cell_type": "code",
   "execution_count": 20,
   "id": "c65904e4",
   "metadata": {},
   "outputs": [
    {
     "name": "stdout",
     "output_type": "stream",
     "text": [
      "Joke j11 with estimated rating: 6.310\n",
      "Joke j72 with estimated rating: 5.533\n",
      "Joke j6 with estimated rating: 5.530\n",
      "Joke j38 with estimated rating: 5.286\n",
      "Joke j10 with estimated rating: 5.190\n"
     ]
    }
   ],
   "source": [
    "#Define a new function to get top 5 jokes for a user based on the item-based normalized model:\n",
    "def get_item_top_5_jokes(algo_item_norm, user_id, joke_list, known_jokes, n=5):\n",
    "    \"\"\"# known_jokes = set of jokes user has already rated\n",
    "\n",
    "    # Predict rating for each joke the user hasn't rated yet\n",
    "    \"\"\"\n",
    "    prediction = []\n",
    "    for joke_id in joke_list:\n",
    "        if joke_id not in known_jokes:\n",
    "            pred = algo_item_norm.predict(user_id, joke_id)\n",
    "            prediction.append((joke_id, pred.est))\n",
    "    # Sort predictions by estimated rating in descending order\n",
    "    prediction.sort(key = lambda x: x[1], reverse=True)\n",
    "    return prediction[:n]\n",
    "\n",
    "user_id = 1\n",
    "user_rated_jokes = set(\n",
    "    joke100_long[\n",
    "        (joke100_long['userID'] == user_id) &\n",
    "        (joke100_long['rating'].notna())\n",
    "    ]['jokesID']\n",
    ")\n",
    "# Generate top 5 recommendations using item-based model\n",
    "top_5_item = get_item_top_5_jokes(algo_item_norm, user_id, all_jokes, user_rated_jokes, n=5)\n",
    "for i, (joke_id, est_rating) in enumerate(top_5_item, start=1):\n",
    "    print(f'Joke {joke_id} with estimated rating: {est_rating:.3f}')"
   ]
  },
  {
   "cell_type": "markdown",
   "id": "f15e4a69",
   "metadata": {},
   "source": [
    "**Summary**:\n",
    "\n",
    "A user-based collaborative filtering (CF) model was built using a sample of 100 users from the Jester dataset. Cosine similarity was used as the distance metric in the K-Nearest Neighbors (KNN) algorithm to group users or items based on similarity. The principle behind the KNN–cosine similarity approach is to find the k nearest neighbors (either user–user or item–item) based on the directional closeness of their vectors, rather than their magnitude. For instance, if two users rated the same types of jokes highly, their corresponding vectors would point in a similar direction, resulting in a small angle between them and thus a cosine similarity value close to 1 — indicating high similarity. On the other hand, two user vectors with an angle equal to or greater than 90° will result in a cosine similarity of 0 or less, indicating low or negative similarity. This method is particularly effective for handling high-dimensional or sparse datasets. Additionally, it is not affected by rating scale bias, where two users may have similar preferences but differ in rating intensity (e.g., one rates more harshly than the other).\n",
    "\n",
    "While KNN with cosine similarity is widely used, it has its own limitations depending on the properties of the dataset. First, in prediction tasks that are sensitive to rating scale or magnitude, this method may be suboptimal because it considers only the direction of the vectors. Second, in extremely sparse user–item matrices, a single overlapping rating between two users or items can result in an artificially high similarity score, due to lack of data. This issue often arises in item–item collaborative filtering, as shown in the earlier example. To mitigate this, we can set the min_support parameter to a minimum threshold N, requiring that a pair of vectors must share at least N overlapping ratings before similarity is computed. This ensures that similarities are based on sufficient evidence rather than on coincidental matches.\n",
    "\n",
    "Two versions of the model were evaluated: one using raw ratings ,and the other using normalized ratings. The model performances were assessed by RMSE. Results showed that the normalized rating model yielded lower RMSE than the raw rating. This difference is likely due to user-bias in the raw data--such as user assigning the same rating to all jokes or rating at the extremes. Normalization helped to reduce such bias by centering the rating as shown by the plot above.\n",
    "\n",
    "While the RMSE might seem high, this is to be expected from the jester dataset since the rating scale spans from -10 to 10, unlike the more conservative rating scales from only 1 to 5. This boarder scaling introduces higher variability that could impact the RMSE.\n",
    "\n",
    "The top-5 personalized joke recommendation was also generated for user1. Joke 40(j40) was ranked the most highly rated according to the user-based CF. A separate prediction for j40 was also predicted to have the same estimated rating as the top-5 recommended jokes, suggesting consistency in the user-based recommendation logic.\n",
    "\n",
    "An additional, an item-based CF was also built to generate the top-5 joke recommendation for user1 for comparsion. While both methods provided a slightly different top-5 jokes with overlapping recommendation on j38 and j72, the RMSE measured in item-based CF model was slightly higher with slightly higher estimated ratings. This is likely due to the nature of the jester dataset, which allows users to be more expressive and subjective in their joke ratings. Since item-based CF relies on item similarity, and jokes are highly subjective in humor, this approach may be less efftive than grouping users with similar rating behaviors.\n",
    "\n",
    "In this context, the user-based CF with normalization proved tp be the better recommender system, making it more suitable for the Jester dataset. For further refinement of the recommender system, we can try to use singular value decomposition (SVD) to simplify the user-item matrix and machine learning to yield a better prediction."
   ]
  }
 ],
 "metadata": {
  "kernelspec": {
   "display_name": "Python 3",
   "language": "python",
   "name": "python3"
  },
  "language_info": {
   "codemirror_mode": {
    "name": "ipython",
    "version": 3
   },
   "file_extension": ".py",
   "mimetype": "text/x-python",
   "name": "python",
   "nbconvert_exporter": "python",
   "pygments_lexer": "ipython3",
   "version": "3.11.9"
  }
 },
 "nbformat": 4,
 "nbformat_minor": 5
}

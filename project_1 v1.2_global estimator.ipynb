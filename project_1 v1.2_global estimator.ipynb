{
  "cells": [
    {
      "cell_type": "markdown",
      "id": "d66ec5ec",
      "metadata": {
        "id": "d66ec5ec"
      },
      "source": [
        "This Project is aimed at generating a Global baseline recommender prediction for items in the shop.\n",
        "\n",
        "This Project is aimed at generating a Global baseline recommender prediction for items in the shop. The analysis is done on a made-up dataset. The core idea of the global baseline estimation is to estimate a rough rating (1-5) for the items in the list using the overall raw average of all items plus both user and item biases.\n",
        "For user-bias, it is a difference between a user's average rating and the overall global average rating. A negative user-bias suggests the user tends to rate items lower than average, possibly indicating a harsher critic or more critical reviewer.  On the other hand, a positive user-bias indicates that the user is more lenient in his/her ratings.\n",
        "For item-bias, it measures how much an item is generally more liked or disliked by comparing its average rating to the global average. A positive item-bias indicates a generally more liked item as opposite to an item with negative item-bias, which indicates general dislikes."
      ]
    },
    {
      "cell_type": "markdown",
      "id": "1930338a",
      "metadata": {
        "id": "1930338a"
      },
      "source": [
        "### Importing libraries"
      ]
    },
    {
      "cell_type": "code",
      "execution_count": 49,
      "id": "7MbycQqkCqHK",
      "metadata": {
        "id": "7MbycQqkCqHK"
      },
      "outputs": [],
      "source": [
        "import pandas as pd\n",
        "import numpy as np\n",
        "from sklearn.model_selection import train_test_split\n",
        "from sklearn.metrics import mean_squared_error"
      ]
    },
    {
      "cell_type": "markdown",
      "id": "b42d0405",
      "metadata": {
        "id": "b42d0405"
      },
      "source": [
        "### Loading data into dataframe"
      ]
    },
    {
      "cell_type": "code",
      "execution_count": 50,
      "id": "6950227a",
      "metadata": {
        "colab": {
          "base_uri": "https://localhost:8080/",
          "height": 206
        },
        "id": "6950227a",
        "outputId": "d09536c2-173f-4c1e-cd34-4dd701704cb3"
      },
      "outputs": [
        {
          "data": {
            "text/html": [
              "<div>\n",
              "<style scoped>\n",
              "    .dataframe tbody tr th:only-of-type {\n",
              "        vertical-align: middle;\n",
              "    }\n",
              "\n",
              "    .dataframe tbody tr th {\n",
              "        vertical-align: top;\n",
              "    }\n",
              "\n",
              "    .dataframe thead th {\n",
              "        text-align: right;\n",
              "    }\n",
              "</style>\n",
              "<table border=\"1\" class=\"dataframe\">\n",
              "  <thead>\n",
              "    <tr style=\"text-align: right;\">\n",
              "      <th></th>\n",
              "      <th>User</th>\n",
              "      <th>IPad</th>\n",
              "      <th>Smart_TV</th>\n",
              "      <th>Xbox_One</th>\n",
              "      <th>5.1_Speakers</th>\n",
              "      <th>Smartphones</th>\n",
              "    </tr>\n",
              "  </thead>\n",
              "  <tbody>\n",
              "    <tr>\n",
              "      <th>0</th>\n",
              "      <td>User1</td>\n",
              "      <td>5.0</td>\n",
              "      <td>4.0</td>\n",
              "      <td>NaN</td>\n",
              "      <td>3.0</td>\n",
              "      <td>1.0</td>\n",
              "    </tr>\n",
              "    <tr>\n",
              "      <th>1</th>\n",
              "      <td>User2</td>\n",
              "      <td>3.0</td>\n",
              "      <td>NaN</td>\n",
              "      <td>2.0</td>\n",
              "      <td>NaN</td>\n",
              "      <td>5.0</td>\n",
              "    </tr>\n",
              "    <tr>\n",
              "      <th>2</th>\n",
              "      <td>User3</td>\n",
              "      <td>NaN</td>\n",
              "      <td>2.0</td>\n",
              "      <td>4.0</td>\n",
              "      <td>NaN</td>\n",
              "      <td>3.0</td>\n",
              "    </tr>\n",
              "    <tr>\n",
              "      <th>3</th>\n",
              "      <td>User4</td>\n",
              "      <td>1.0</td>\n",
              "      <td>NaN</td>\n",
              "      <td>5.0</td>\n",
              "      <td>4.0</td>\n",
              "      <td>NaN</td>\n",
              "    </tr>\n",
              "    <tr>\n",
              "      <th>4</th>\n",
              "      <td>User5</td>\n",
              "      <td>NaN</td>\n",
              "      <td>5.0</td>\n",
              "      <td>3.0</td>\n",
              "      <td>2.0</td>\n",
              "      <td>NaN</td>\n",
              "    </tr>\n",
              "  </tbody>\n",
              "</table>\n",
              "</div>"
            ],
            "text/plain": [
              "    User  IPad  Smart_TV  Xbox_One  5.1_Speakers  Smartphones\n",
              "0  User1   5.0       4.0       NaN           3.0          1.0\n",
              "1  User2   3.0       NaN       2.0           NaN          5.0\n",
              "2  User3   NaN       2.0       4.0           NaN          3.0\n",
              "3  User4   1.0       NaN       5.0           4.0          NaN\n",
              "4  User5   NaN       5.0       3.0           2.0          NaN"
            ]
          },
          "execution_count": 50,
          "metadata": {},
          "output_type": "execute_result"
        }
      ],
      "source": [
        "#Generating a toy dataset:\n",
        "data = {\n",
        "    'IPad': [5, 3, np.nan, 1, np.nan],\n",
        "    'Smart_TV': [4, np.nan, 2, np.nan, 5],\n",
        "    'Xbox_One': [np.nan, 2, 4, 5, 3],\n",
        "    '5.1_Speakers': [3, np.nan, np.nan, 4, 2],\n",
        "    'Smartphones': [1, 5, 3, np.nan, np.nan],\n",
        "}\n",
        "\n",
        "df = pd.DataFrame(data, index=[f'User{i}' for i in range(1, 6)])\n",
        "\n",
        "#Reset index to 'User'\n",
        "df.reset_index(inplace=True)\n",
        "\n",
        "#Rename column 1 to be 'user'\n",
        "df.rename(columns={'index': 'User'}, inplace=True)\n",
        "df"
      ]
    },
    {
      "cell_type": "markdown",
      "id": "7rKQM9-M1PGS",
      "metadata": {
        "id": "7rKQM9-M1PGS"
      },
      "source": [
        "#### Converting to long format dataframe:"
      ]
    },
    {
      "cell_type": "code",
      "execution_count": 51,
      "id": "3zArPx5Y1gKA",
      "metadata": {
        "colab": {
          "base_uri": "https://localhost:8080/",
          "height": 112
        },
        "id": "3zArPx5Y1gKA",
        "outputId": "ebfb5286-e774-4f20-b5b4-287ee0ee01f1"
      },
      "outputs": [
        {
          "data": {
            "text/html": [
              "<div>\n",
              "<style scoped>\n",
              "    .dataframe tbody tr th:only-of-type {\n",
              "        vertical-align: middle;\n",
              "    }\n",
              "\n",
              "    .dataframe tbody tr th {\n",
              "        vertical-align: top;\n",
              "    }\n",
              "\n",
              "    .dataframe thead th {\n",
              "        text-align: right;\n",
              "    }\n",
              "</style>\n",
              "<table border=\"1\" class=\"dataframe\">\n",
              "  <thead>\n",
              "    <tr style=\"text-align: right;\">\n",
              "      <th></th>\n",
              "      <th>User</th>\n",
              "      <th>item</th>\n",
              "      <th>Rating</th>\n",
              "    </tr>\n",
              "  </thead>\n",
              "  <tbody>\n",
              "    <tr>\n",
              "      <th>0</th>\n",
              "      <td>User1</td>\n",
              "      <td>IPad</td>\n",
              "      <td>5.0</td>\n",
              "    </tr>\n",
              "    <tr>\n",
              "      <th>1</th>\n",
              "      <td>User2</td>\n",
              "      <td>IPad</td>\n",
              "      <td>3.0</td>\n",
              "    </tr>\n",
              "  </tbody>\n",
              "</table>\n",
              "</div>"
            ],
            "text/plain": [
              "    User  item  Rating\n",
              "0  User1  IPad     5.0\n",
              "1  User2  IPad     3.0"
            ]
          },
          "execution_count": 51,
          "metadata": {},
          "output_type": "execute_result"
        }
      ],
      "source": [
        "df_long = df.melt(id_vars='User', value_vars=df[0:4], value_name='Rating')\n",
        "\n",
        "#Rename column to 'item'\n",
        "df_long.rename(columns={'variable': 'item'}, inplace=True)\n",
        "\n",
        "#To preview:\n",
        "df_long.head(2)"
      ]
    },
    {
      "cell_type": "markdown",
      "id": "6VvbtVCB2nwo",
      "metadata": {
        "id": "6VvbtVCB2nwo"
      },
      "source": [
        "#### Filter out the unknown values:"
      ]
    },
    {
      "cell_type": "code",
      "execution_count": 52,
      "id": "4GgKkPns2mFk",
      "metadata": {
        "id": "4GgKkPns2mFk"
      },
      "outputs": [],
      "source": [
        "df_unkowns = df_long[df_long['Rating'].isna()]\n",
        "\n",
        "#Separate the dataset to train split:\n",
        "df_train_test = df_long.dropna()\n",
        "\n",
        "#Due to low sample size, use 70/30 split for train test split:\n",
        "df_train, df_test = train_test_split(df_train_test, test_size=0.3, random_state=41)"
      ]
    },
    {
      "cell_type": "markdown",
      "id": "dGcbe6ea5CvU",
      "metadata": {
        "id": "dGcbe6ea5CvU"
      },
      "source": [
        "#### Calculating the raw mean for both training and test set data:"
      ]
    },
    {
      "cell_type": "code",
      "execution_count": 53,
      "id": "fzYbODG53Deo",
      "metadata": {
        "colab": {
          "base_uri": "https://localhost:8080/"
        },
        "id": "fzYbODG53Deo",
        "outputId": "11d8d6b2-4e70-4d5b-c597-a6e228990b3c"
      },
      "outputs": [
        {
          "name": "stdout",
          "output_type": "stream",
          "text": [
            "Raw train mean: 3.455\n",
            "Raw test mean: 2.800\n"
          ]
        }
      ],
      "source": [
        "raw_train_mean = df_train['Rating'].mean()\n",
        "raw_test_mean = df_test['Rating'].mean()\n",
        "print(f'Raw train mean: {raw_train_mean:.3f}\\nRaw test mean: {raw_test_mean:.3f}')"
      ]
    },
    {
      "cell_type": "markdown",
      "id": "SJOPiT_2_izR",
      "metadata": {
        "id": "SJOPiT_2_izR"
      },
      "source": [
        "#### Calculate the RMSE for both Test and Training set:"
      ]
    },
    {
      "cell_type": "code",
      "execution_count": 54,
      "id": "pPgYkcmB9ePp",
      "metadata": {
        "colab": {
          "base_uri": "https://localhost:8080/"
        },
        "id": "pPgYkcmB9ePp",
        "outputId": "397f91fc-c469-4087-a7da-9219042cd812"
      },
      "outputs": [
        {
          "name": "stdout",
          "output_type": "stream",
          "text": [
            "RMSE train: 1.499\n",
            "RMSE test: 0.748\n"
          ]
        }
      ],
      "source": [
        "#Insert the raw_mean values to the training and test dataset for easier computation:\n",
        "df_train['raw_mean'] = raw_train_mean\n",
        "df_test['raw_mean'] = raw_test_mean\n",
        "\n",
        "#Compute the RMSE for both training and test dataset:\n",
        "rmse_train = np.sqrt(mean_squared_error(df_train['Rating'], df_train['raw_mean']))\n",
        "rmse_test = np.sqrt(mean_squared_error(df_test['Rating'], df_test['raw_mean']))\n",
        "print(f'RMSE train: {rmse_train:.3f}\\nRMSE test: {rmse_test:.3f}')"
      ]
    },
    {
      "cell_type": "markdown",
      "id": "aa561012",
      "metadata": {},
      "source": [
        "The RMSE for the test set is lower than the training set because of how the data is randomly splitted and how small the dataset is.\n",
        "The RMSE for the test set will become larger than the training set if the random_state is set to 42 or if the dataset is larger. With a smaller dataset such as this made-up dataset, it is not surprising to see the RMSE behave this way."
      ]
    },
    {
      "cell_type": "markdown",
      "id": "5gYh90QQAfnn",
      "metadata": {
        "id": "5gYh90QQAfnn"
      },
      "source": [
        "Calculate the User and Item bias for both training and test set:"
      ]
    },
    {
      "cell_type": "code",
      "execution_count": 55,
      "id": "4TZxYmCc_8rH",
      "metadata": {
        "colab": {
          "base_uri": "https://localhost:8080/"
        },
        "id": "4TZxYmCc_8rH",
        "outputId": "3133d2a4-2a58-4c06-f269-6ee10d042356"
      },
      "outputs": [
        {
          "name": "stdout",
          "output_type": "stream",
          "text": [
            "User bias train: User\n",
            "User1   -0.121212\n",
            "User2    0.545455\n",
            "User3    0.045455\n",
            "User4   -0.454545\n",
            "User5    0.045455\n",
            "Name: Rating, dtype: float64\n",
            "Item bias train: item\n",
            "5.1_Speakers   -1.454545\n",
            "IPad           -0.454545\n",
            "Smart_TV        1.045455\n",
            "Smartphones    -0.454545\n",
            "Xbox_One        1.045455\n",
            "Name: Rating, dtype: float64\n",
            "User bias test: User\n",
            "User1    0.2\n",
            "User2   -0.8\n",
            "User3   -0.8\n",
            "User4    1.2\n",
            "User5    0.2\n",
            "Name: Rating, dtype: float64\n",
            "Item bias test: item\n",
            "5.1_Speakers    0.7\n",
            "Smart_TV       -0.8\n",
            "Xbox_One       -0.3\n",
            "Name: Rating, dtype: float64\n"
          ]
        }
      ],
      "source": [
        "#User and item bias for training set:\n",
        "user_bias_train = df_train.groupby('User')['Rating'].mean() - raw_train_mean\n",
        "item_bias_train = df_train.groupby('item')['Rating'].mean() - raw_train_mean\n",
        "\n",
        "#User and item bias for test set:\n",
        "user_bias_test = df_test.groupby('User')['Rating'].mean() - raw_test_mean\n",
        "item_bias_test = df_test.groupby('item')['Rating'].mean() - raw_test_mean\n",
        "\n",
        "print(f'User bias train: {user_bias_train}\\nItem bias train: {item_bias_train}')\n",
        "print(f'User bias test: {user_bias_test}\\nItem bias test: {item_bias_test}')"
      ]
    },
    {
      "cell_type": "markdown",
      "id": "VyYbRTCE7FP7",
      "metadata": {
        "id": "VyYbRTCE7FP7"
      },
      "source": [
        "From the raw average, and the appropriate user and item biases, calculate the baseline predictorsfor every user-item combination."
      ]
    },
    {
      "cell_type": "code",
      "execution_count": 56,
      "id": "A-ah1OTN7Ulq",
      "metadata": {
        "id": "A-ah1OTN7Ulq"
      },
      "outputs": [],
      "source": [
        "#Compute the baseline estimator for the training set:\n",
        "df_train['baseline_estimate'] = raw_train_mean + user_bias_train.reindex(df_train['User']).values + item_bias_train.reindex(df_train['item']).values\n",
        "\n",
        "#Compute the baseline estimator for the test set:\n",
        "df_test['baseline_estimate'] = raw_test_mean + user_bias_test.reindex(df_test['User']).values + item_bias_test.reindex(df_test['item']).values"
      ]
    },
    {
      "cell_type": "code",
      "execution_count": 57,
      "id": "U-nrxQPP8JJI",
      "metadata": {
        "colab": {
          "base_uri": "https://localhost:8080/",
          "height": 112
        },
        "id": "U-nrxQPP8JJI",
        "outputId": "4be78920-b26f-4f7d-a6c9-8beb32326396"
      },
      "outputs": [
        {
          "data": {
            "text/html": [
              "<div>\n",
              "<style scoped>\n",
              "    .dataframe tbody tr th:only-of-type {\n",
              "        vertical-align: middle;\n",
              "    }\n",
              "\n",
              "    .dataframe tbody tr th {\n",
              "        vertical-align: top;\n",
              "    }\n",
              "\n",
              "    .dataframe thead th {\n",
              "        text-align: right;\n",
              "    }\n",
              "</style>\n",
              "<table border=\"1\" class=\"dataframe\">\n",
              "  <thead>\n",
              "    <tr style=\"text-align: right;\">\n",
              "      <th></th>\n",
              "      <th>User</th>\n",
              "      <th>item</th>\n",
              "      <th>Rating</th>\n",
              "      <th>raw_mean</th>\n",
              "      <th>baseline_estimate</th>\n",
              "    </tr>\n",
              "  </thead>\n",
              "  <tbody>\n",
              "    <tr>\n",
              "      <th>13</th>\n",
              "      <td>User4</td>\n",
              "      <td>Xbox_One</td>\n",
              "      <td>5.0</td>\n",
              "      <td>3.454545</td>\n",
              "      <td>4.045455</td>\n",
              "    </tr>\n",
              "    <tr>\n",
              "      <th>20</th>\n",
              "      <td>User1</td>\n",
              "      <td>Smartphones</td>\n",
              "      <td>1.0</td>\n",
              "      <td>3.454545</td>\n",
              "      <td>2.878788</td>\n",
              "    </tr>\n",
              "  </tbody>\n",
              "</table>\n",
              "</div>"
            ],
            "text/plain": [
              "     User         item  Rating  raw_mean  baseline_estimate\n",
              "13  User4     Xbox_One     5.0  3.454545           4.045455\n",
              "20  User1  Smartphones     1.0  3.454545           2.878788"
            ]
          },
          "execution_count": 57,
          "metadata": {},
          "output_type": "execute_result"
        }
      ],
      "source": [
        "df_train.head(2)\n"
      ]
    },
    {
      "cell_type": "code",
      "execution_count": 58,
      "id": "0Ej4C9ij8cYI",
      "metadata": {
        "colab": {
          "base_uri": "https://localhost:8080/",
          "height": 112
        },
        "id": "0Ej4C9ij8cYI",
        "outputId": "692e919a-eaa3-4c3d-b995-49e31fa13c95"
      },
      "outputs": [
        {
          "data": {
            "text/html": [
              "<div>\n",
              "<style scoped>\n",
              "    .dataframe tbody tr th:only-of-type {\n",
              "        vertical-align: middle;\n",
              "    }\n",
              "\n",
              "    .dataframe tbody tr th {\n",
              "        vertical-align: top;\n",
              "    }\n",
              "\n",
              "    .dataframe thead th {\n",
              "        text-align: right;\n",
              "    }\n",
              "</style>\n",
              "<table border=\"1\" class=\"dataframe\">\n",
              "  <thead>\n",
              "    <tr style=\"text-align: right;\">\n",
              "      <th></th>\n",
              "      <th>User</th>\n",
              "      <th>item</th>\n",
              "      <th>Rating</th>\n",
              "      <th>raw_mean</th>\n",
              "      <th>baseline_estimate</th>\n",
              "    </tr>\n",
              "  </thead>\n",
              "  <tbody>\n",
              "    <tr>\n",
              "      <th>15</th>\n",
              "      <td>User1</td>\n",
              "      <td>5.1_Speakers</td>\n",
              "      <td>3.0</td>\n",
              "      <td>2.8</td>\n",
              "      <td>3.7</td>\n",
              "    </tr>\n",
              "    <tr>\n",
              "      <th>14</th>\n",
              "      <td>User5</td>\n",
              "      <td>Xbox_One</td>\n",
              "      <td>3.0</td>\n",
              "      <td>2.8</td>\n",
              "      <td>2.7</td>\n",
              "    </tr>\n",
              "  </tbody>\n",
              "</table>\n",
              "</div>"
            ],
            "text/plain": [
              "     User          item  Rating  raw_mean  baseline_estimate\n",
              "15  User1  5.1_Speakers     3.0       2.8                3.7\n",
              "14  User5      Xbox_One     3.0       2.8                2.7"
            ]
          },
          "execution_count": 58,
          "metadata": {},
          "output_type": "execute_result"
        }
      ],
      "source": [
        "df_test.head(2)"
      ]
    },
    {
      "cell_type": "markdown",
      "id": "6yHrNxyw8i2d",
      "metadata": {
        "id": "6yHrNxyw8i2d"
      },
      "source": [
        "Calculate the RMSE for the baseline predictors for both your training data and your test data."
      ]
    },
    {
      "cell_type": "code",
      "execution_count": 59,
      "id": "v7782keM8iP_",
      "metadata": {
        "id": "v7782keM8iP_"
      },
      "outputs": [],
      "source": [
        "#RMSE for the training baseline estimator:\n",
        "rmse_train_baseline = np.sqrt(mean_squared_error(df_train['Rating'], df_train['baseline_estimate']))\n",
        "\n",
        "#RMSE for the test baseline estimator:\n",
        "rmse_test_baseline = np.sqrt(mean_squared_error(df_test['Rating'], df_test['baseline_estimate']))"
      ]
    },
    {
      "cell_type": "markdown",
      "id": "ibpU6S5X9B9b",
      "metadata": {
        "id": "ibpU6S5X9B9b"
      },
      "source": [
        "Results summary:"
      ]
    },
    {
      "cell_type": "code",
      "execution_count": 60,
      "id": "Bivjgq4Z86Lr",
      "metadata": {
        "colab": {
          "base_uri": "https://localhost:8080/"
        },
        "id": "Bivjgq4Z86Lr",
        "outputId": "04499275-98ce-4251-afab-d7959876d900"
      },
      "outputs": [
        {
          "name": "stdout",
          "output_type": "stream",
          "text": [
            "RMSE for raw_mean training set: 1.499\n",
            "RMSE for raw_mean test set: 0.748\n",
            "RMSE for baseline training set: 1.144\n",
            "RMSE for baseline test set: 0.600\n"
          ]
        }
      ],
      "source": [
        "print(f'RMSE for raw_mean training set: {rmse_train:.3f}')\n",
        "print(f'RMSE for raw_mean test set: {rmse_test:.3f}')\n",
        "print(f'RMSE for baseline training set: {rmse_train_baseline:.3f}')\n",
        "print(f'RMSE for baseline test set: {rmse_test_baseline:.3f}')"
      ]
    },
    {
      "cell_type": "markdown",
      "id": "sGNge78n9bM9",
      "metadata": {
        "id": "sGNge78n9bM9"
      },
      "source": [
        "To predict the unknown ratings using the training baseline estimator:"
      ]
    },
    {
      "cell_type": "code",
      "execution_count": 61,
      "id": "H7dov-Mk9haN",
      "metadata": {
        "colab": {
          "base_uri": "https://localhost:8080/",
          "height": 438
        },
        "id": "H7dov-Mk9haN",
        "outputId": "d072afb0-f6f0-44fd-9d73-8693f35b50e5"
      },
      "outputs": [
        {
          "data": {
            "text/html": [
              "<div>\n",
              "<style scoped>\n",
              "    .dataframe tbody tr th:only-of-type {\n",
              "        vertical-align: middle;\n",
              "    }\n",
              "\n",
              "    .dataframe tbody tr th {\n",
              "        vertical-align: top;\n",
              "    }\n",
              "\n",
              "    .dataframe thead th {\n",
              "        text-align: right;\n",
              "    }\n",
              "</style>\n",
              "<table border=\"1\" class=\"dataframe\">\n",
              "  <thead>\n",
              "    <tr style=\"text-align: right;\">\n",
              "      <th></th>\n",
              "      <th>User</th>\n",
              "      <th>item</th>\n",
              "      <th>Rating</th>\n",
              "      <th>baseline_estimate</th>\n",
              "    </tr>\n",
              "  </thead>\n",
              "  <tbody>\n",
              "    <tr>\n",
              "      <th>2</th>\n",
              "      <td>User3</td>\n",
              "      <td>IPad</td>\n",
              "      <td>NaN</td>\n",
              "      <td>3.045455</td>\n",
              "    </tr>\n",
              "    <tr>\n",
              "      <th>4</th>\n",
              "      <td>User5</td>\n",
              "      <td>IPad</td>\n",
              "      <td>NaN</td>\n",
              "      <td>3.045455</td>\n",
              "    </tr>\n",
              "    <tr>\n",
              "      <th>6</th>\n",
              "      <td>User2</td>\n",
              "      <td>Smart_TV</td>\n",
              "      <td>NaN</td>\n",
              "      <td>5.045455</td>\n",
              "    </tr>\n",
              "    <tr>\n",
              "      <th>8</th>\n",
              "      <td>User4</td>\n",
              "      <td>Smart_TV</td>\n",
              "      <td>NaN</td>\n",
              "      <td>4.045455</td>\n",
              "    </tr>\n",
              "    <tr>\n",
              "      <th>10</th>\n",
              "      <td>User1</td>\n",
              "      <td>Xbox_One</td>\n",
              "      <td>NaN</td>\n",
              "      <td>4.378788</td>\n",
              "    </tr>\n",
              "    <tr>\n",
              "      <th>16</th>\n",
              "      <td>User2</td>\n",
              "      <td>5.1_Speakers</td>\n",
              "      <td>NaN</td>\n",
              "      <td>2.545455</td>\n",
              "    </tr>\n",
              "    <tr>\n",
              "      <th>17</th>\n",
              "      <td>User3</td>\n",
              "      <td>5.1_Speakers</td>\n",
              "      <td>NaN</td>\n",
              "      <td>2.045455</td>\n",
              "    </tr>\n",
              "    <tr>\n",
              "      <th>23</th>\n",
              "      <td>User4</td>\n",
              "      <td>Smartphones</td>\n",
              "      <td>NaN</td>\n",
              "      <td>2.545455</td>\n",
              "    </tr>\n",
              "    <tr>\n",
              "      <th>24</th>\n",
              "      <td>User5</td>\n",
              "      <td>Smartphones</td>\n",
              "      <td>NaN</td>\n",
              "      <td>3.045455</td>\n",
              "    </tr>\n",
              "  </tbody>\n",
              "</table>\n",
              "</div>"
            ],
            "text/plain": [
              "     User          item  Rating  baseline_estimate\n",
              "2   User3          IPad     NaN           3.045455\n",
              "4   User5          IPad     NaN           3.045455\n",
              "6   User2      Smart_TV     NaN           5.045455\n",
              "8   User4      Smart_TV     NaN           4.045455\n",
              "10  User1      Xbox_One     NaN           4.378788\n",
              "16  User2  5.1_Speakers     NaN           2.545455\n",
              "17  User3  5.1_Speakers     NaN           2.045455\n",
              "23  User4   Smartphones     NaN           2.545455\n",
              "24  User5   Smartphones     NaN           3.045455"
            ]
          },
          "execution_count": 61,
          "metadata": {},
          "output_type": "execute_result"
        }
      ],
      "source": [
        "df_unkowns_predicted = df_unkowns.copy()\n",
        "df_unkowns_predicted['baseline_estimate'] = raw_train_mean + user_bias_train.reindex(df_unkowns['User']).values + item_bias_train.reindex(df_unkowns['item']).values\n",
        "df_unkowns_predicted"
      ]
    },
    {
      "cell_type": "markdown",
      "id": "W7eSzzJT-Tpr",
      "metadata": {
        "id": "W7eSzzJT-Tpr"
      },
      "source": [
        "To merge training, test, and unknown back into one dataframe:"
      ]
    },
    {
      "cell_type": "code",
      "execution_count": 62,
      "id": "QFmSr7_o9yzY",
      "metadata": {
        "colab": {
          "base_uri": "https://localhost:8080/",
          "height": 832
        },
        "id": "QFmSr7_o9yzY",
        "outputId": "74d2b34b-9560-4b5b-f970-83ee594379b3"
      },
      "outputs": [
        {
          "data": {
            "text/html": [
              "<div>\n",
              "<style scoped>\n",
              "    .dataframe tbody tr th:only-of-type {\n",
              "        vertical-align: middle;\n",
              "    }\n",
              "\n",
              "    .dataframe tbody tr th {\n",
              "        vertical-align: top;\n",
              "    }\n",
              "\n",
              "    .dataframe thead th {\n",
              "        text-align: right;\n",
              "    }\n",
              "</style>\n",
              "<table border=\"1\" class=\"dataframe\">\n",
              "  <thead>\n",
              "    <tr style=\"text-align: right;\">\n",
              "      <th></th>\n",
              "      <th>User</th>\n",
              "      <th>item</th>\n",
              "      <th>Rating</th>\n",
              "      <th>raw_mean</th>\n",
              "      <th>baseline_estimate</th>\n",
              "    </tr>\n",
              "  </thead>\n",
              "  <tbody>\n",
              "    <tr>\n",
              "      <th>13</th>\n",
              "      <td>User4</td>\n",
              "      <td>Xbox_One</td>\n",
              "      <td>5.0</td>\n",
              "      <td>3.454545</td>\n",
              "      <td>4.05</td>\n",
              "    </tr>\n",
              "    <tr>\n",
              "      <th>20</th>\n",
              "      <td>User1</td>\n",
              "      <td>Smartphones</td>\n",
              "      <td>1.0</td>\n",
              "      <td>3.454545</td>\n",
              "      <td>2.88</td>\n",
              "    </tr>\n",
              "    <tr>\n",
              "      <th>9</th>\n",
              "      <td>User5</td>\n",
              "      <td>Smart_TV</td>\n",
              "      <td>5.0</td>\n",
              "      <td>3.454545</td>\n",
              "      <td>4.55</td>\n",
              "    </tr>\n",
              "    <tr>\n",
              "      <th>12</th>\n",
              "      <td>User3</td>\n",
              "      <td>Xbox_One</td>\n",
              "      <td>4.0</td>\n",
              "      <td>3.454545</td>\n",
              "      <td>4.55</td>\n",
              "    </tr>\n",
              "    <tr>\n",
              "      <th>21</th>\n",
              "      <td>User2</td>\n",
              "      <td>Smartphones</td>\n",
              "      <td>5.0</td>\n",
              "      <td>3.454545</td>\n",
              "      <td>3.55</td>\n",
              "    </tr>\n",
              "    <tr>\n",
              "      <th>1</th>\n",
              "      <td>User2</td>\n",
              "      <td>IPad</td>\n",
              "      <td>3.0</td>\n",
              "      <td>3.454545</td>\n",
              "      <td>3.55</td>\n",
              "    </tr>\n",
              "    <tr>\n",
              "      <th>22</th>\n",
              "      <td>User3</td>\n",
              "      <td>Smartphones</td>\n",
              "      <td>3.0</td>\n",
              "      <td>3.454545</td>\n",
              "      <td>3.05</td>\n",
              "    </tr>\n",
              "    <tr>\n",
              "      <th>3</th>\n",
              "      <td>User4</td>\n",
              "      <td>IPad</td>\n",
              "      <td>1.0</td>\n",
              "      <td>3.454545</td>\n",
              "      <td>2.55</td>\n",
              "    </tr>\n",
              "    <tr>\n",
              "      <th>19</th>\n",
              "      <td>User5</td>\n",
              "      <td>5.1_Speakers</td>\n",
              "      <td>2.0</td>\n",
              "      <td>3.454545</td>\n",
              "      <td>2.05</td>\n",
              "    </tr>\n",
              "    <tr>\n",
              "      <th>5</th>\n",
              "      <td>User1</td>\n",
              "      <td>Smart_TV</td>\n",
              "      <td>4.0</td>\n",
              "      <td>3.454545</td>\n",
              "      <td>4.38</td>\n",
              "    </tr>\n",
              "    <tr>\n",
              "      <th>0</th>\n",
              "      <td>User1</td>\n",
              "      <td>IPad</td>\n",
              "      <td>5.0</td>\n",
              "      <td>3.454545</td>\n",
              "      <td>2.88</td>\n",
              "    </tr>\n",
              "    <tr>\n",
              "      <th>15</th>\n",
              "      <td>User1</td>\n",
              "      <td>5.1_Speakers</td>\n",
              "      <td>3.0</td>\n",
              "      <td>2.800000</td>\n",
              "      <td>3.70</td>\n",
              "    </tr>\n",
              "    <tr>\n",
              "      <th>14</th>\n",
              "      <td>User5</td>\n",
              "      <td>Xbox_One</td>\n",
              "      <td>3.0</td>\n",
              "      <td>2.800000</td>\n",
              "      <td>2.70</td>\n",
              "    </tr>\n",
              "    <tr>\n",
              "      <th>11</th>\n",
              "      <td>User2</td>\n",
              "      <td>Xbox_One</td>\n",
              "      <td>2.0</td>\n",
              "      <td>2.800000</td>\n",
              "      <td>1.70</td>\n",
              "    </tr>\n",
              "    <tr>\n",
              "      <th>18</th>\n",
              "      <td>User4</td>\n",
              "      <td>5.1_Speakers</td>\n",
              "      <td>4.0</td>\n",
              "      <td>2.800000</td>\n",
              "      <td>4.70</td>\n",
              "    </tr>\n",
              "    <tr>\n",
              "      <th>7</th>\n",
              "      <td>User3</td>\n",
              "      <td>Smart_TV</td>\n",
              "      <td>2.0</td>\n",
              "      <td>2.800000</td>\n",
              "      <td>1.20</td>\n",
              "    </tr>\n",
              "    <tr>\n",
              "      <th>2</th>\n",
              "      <td>User3</td>\n",
              "      <td>IPad</td>\n",
              "      <td>NaN</td>\n",
              "      <td>NaN</td>\n",
              "      <td>3.05</td>\n",
              "    </tr>\n",
              "    <tr>\n",
              "      <th>4</th>\n",
              "      <td>User5</td>\n",
              "      <td>IPad</td>\n",
              "      <td>NaN</td>\n",
              "      <td>NaN</td>\n",
              "      <td>3.05</td>\n",
              "    </tr>\n",
              "    <tr>\n",
              "      <th>6</th>\n",
              "      <td>User2</td>\n",
              "      <td>Smart_TV</td>\n",
              "      <td>NaN</td>\n",
              "      <td>NaN</td>\n",
              "      <td>5.05</td>\n",
              "    </tr>\n",
              "    <tr>\n",
              "      <th>8</th>\n",
              "      <td>User4</td>\n",
              "      <td>Smart_TV</td>\n",
              "      <td>NaN</td>\n",
              "      <td>NaN</td>\n",
              "      <td>4.05</td>\n",
              "    </tr>\n",
              "    <tr>\n",
              "      <th>10</th>\n",
              "      <td>User1</td>\n",
              "      <td>Xbox_One</td>\n",
              "      <td>NaN</td>\n",
              "      <td>NaN</td>\n",
              "      <td>4.38</td>\n",
              "    </tr>\n",
              "    <tr>\n",
              "      <th>16</th>\n",
              "      <td>User2</td>\n",
              "      <td>5.1_Speakers</td>\n",
              "      <td>NaN</td>\n",
              "      <td>NaN</td>\n",
              "      <td>2.55</td>\n",
              "    </tr>\n",
              "    <tr>\n",
              "      <th>17</th>\n",
              "      <td>User3</td>\n",
              "      <td>5.1_Speakers</td>\n",
              "      <td>NaN</td>\n",
              "      <td>NaN</td>\n",
              "      <td>2.05</td>\n",
              "    </tr>\n",
              "    <tr>\n",
              "      <th>23</th>\n",
              "      <td>User4</td>\n",
              "      <td>Smartphones</td>\n",
              "      <td>NaN</td>\n",
              "      <td>NaN</td>\n",
              "      <td>2.55</td>\n",
              "    </tr>\n",
              "    <tr>\n",
              "      <th>24</th>\n",
              "      <td>User5</td>\n",
              "      <td>Smartphones</td>\n",
              "      <td>NaN</td>\n",
              "      <td>NaN</td>\n",
              "      <td>3.05</td>\n",
              "    </tr>\n",
              "  </tbody>\n",
              "</table>\n",
              "</div>"
            ],
            "text/plain": [
              "     User          item  Rating  raw_mean  baseline_estimate\n",
              "13  User4      Xbox_One     5.0  3.454545               4.05\n",
              "20  User1   Smartphones     1.0  3.454545               2.88\n",
              "9   User5      Smart_TV     5.0  3.454545               4.55\n",
              "12  User3      Xbox_One     4.0  3.454545               4.55\n",
              "21  User2   Smartphones     5.0  3.454545               3.55\n",
              "1   User2          IPad     3.0  3.454545               3.55\n",
              "22  User3   Smartphones     3.0  3.454545               3.05\n",
              "3   User4          IPad     1.0  3.454545               2.55\n",
              "19  User5  5.1_Speakers     2.0  3.454545               2.05\n",
              "5   User1      Smart_TV     4.0  3.454545               4.38\n",
              "0   User1          IPad     5.0  3.454545               2.88\n",
              "15  User1  5.1_Speakers     3.0  2.800000               3.70\n",
              "14  User5      Xbox_One     3.0  2.800000               2.70\n",
              "11  User2      Xbox_One     2.0  2.800000               1.70\n",
              "18  User4  5.1_Speakers     4.0  2.800000               4.70\n",
              "7   User3      Smart_TV     2.0  2.800000               1.20\n",
              "2   User3          IPad     NaN       NaN               3.05\n",
              "4   User5          IPad     NaN       NaN               3.05\n",
              "6   User2      Smart_TV     NaN       NaN               5.05\n",
              "8   User4      Smart_TV     NaN       NaN               4.05\n",
              "10  User1      Xbox_One     NaN       NaN               4.38\n",
              "16  User2  5.1_Speakers     NaN       NaN               2.55\n",
              "17  User3  5.1_Speakers     NaN       NaN               2.05\n",
              "23  User4   Smartphones     NaN       NaN               2.55\n",
              "24  User5   Smartphones     NaN       NaN               3.05"
            ]
          },
          "execution_count": 62,
          "metadata": {},
          "output_type": "execute_result"
        }
      ],
      "source": [
        "df_final = pd.concat([df_train, df_test, df_unkowns_predicted])\n",
        "df_final['baseline_estimate'] = round(df_final['baseline_estimate'], 2)\n",
        "df_final"
      ]
    },
    {
      "cell_type": "markdown",
      "id": "sbtGClqL-unR",
      "metadata": {
        "id": "sbtGClqL-unR"
      },
      "source": [
        "To pivot the table into a user-item matrix:"
      ]
    },
    {
      "cell_type": "code",
      "execution_count": 63,
      "id": "gAuwPXN_9033",
      "metadata": {
        "colab": {
          "base_uri": "https://localhost:8080/",
          "height": 237
        },
        "id": "gAuwPXN_9033",
        "outputId": "7f006a75-bc2c-434f-e6c8-b7e1bd3c7a47"
      },
      "outputs": [
        {
          "data": {
            "text/html": [
              "<div>\n",
              "<style scoped>\n",
              "    .dataframe tbody tr th:only-of-type {\n",
              "        vertical-align: middle;\n",
              "    }\n",
              "\n",
              "    .dataframe tbody tr th {\n",
              "        vertical-align: top;\n",
              "    }\n",
              "\n",
              "    .dataframe thead th {\n",
              "        text-align: right;\n",
              "    }\n",
              "</style>\n",
              "<table border=\"1\" class=\"dataframe\">\n",
              "  <thead>\n",
              "    <tr style=\"text-align: right;\">\n",
              "      <th>item</th>\n",
              "      <th>5.1_Speakers</th>\n",
              "      <th>IPad</th>\n",
              "      <th>Smart_TV</th>\n",
              "      <th>Smartphones</th>\n",
              "      <th>Xbox_One</th>\n",
              "    </tr>\n",
              "    <tr>\n",
              "      <th>User</th>\n",
              "      <th></th>\n",
              "      <th></th>\n",
              "      <th></th>\n",
              "      <th></th>\n",
              "      <th></th>\n",
              "    </tr>\n",
              "  </thead>\n",
              "  <tbody>\n",
              "    <tr>\n",
              "      <th>User1</th>\n",
              "      <td>3.70</td>\n",
              "      <td>2.88</td>\n",
              "      <td>4.38</td>\n",
              "      <td>2.88</td>\n",
              "      <td>4.38</td>\n",
              "    </tr>\n",
              "    <tr>\n",
              "      <th>User2</th>\n",
              "      <td>2.55</td>\n",
              "      <td>3.55</td>\n",
              "      <td>5.05</td>\n",
              "      <td>3.55</td>\n",
              "      <td>1.70</td>\n",
              "    </tr>\n",
              "    <tr>\n",
              "      <th>User3</th>\n",
              "      <td>2.05</td>\n",
              "      <td>3.05</td>\n",
              "      <td>1.20</td>\n",
              "      <td>3.05</td>\n",
              "      <td>4.55</td>\n",
              "    </tr>\n",
              "    <tr>\n",
              "      <th>User4</th>\n",
              "      <td>4.70</td>\n",
              "      <td>2.55</td>\n",
              "      <td>4.05</td>\n",
              "      <td>2.55</td>\n",
              "      <td>4.05</td>\n",
              "    </tr>\n",
              "    <tr>\n",
              "      <th>User5</th>\n",
              "      <td>2.05</td>\n",
              "      <td>3.05</td>\n",
              "      <td>4.55</td>\n",
              "      <td>3.05</td>\n",
              "      <td>2.70</td>\n",
              "    </tr>\n",
              "  </tbody>\n",
              "</table>\n",
              "</div>"
            ],
            "text/plain": [
              "item   5.1_Speakers  IPad  Smart_TV  Smartphones  Xbox_One\n",
              "User                                                      \n",
              "User1          3.70  2.88      4.38         2.88      4.38\n",
              "User2          2.55  3.55      5.05         3.55      1.70\n",
              "User3          2.05  3.05      1.20         3.05      4.55\n",
              "User4          4.70  2.55      4.05         2.55      4.05\n",
              "User5          2.05  3.05      4.55         3.05      2.70"
            ]
          },
          "execution_count": 63,
          "metadata": {},
          "output_type": "execute_result"
        }
      ],
      "source": [
        "df_final.pivot_table(index='User', columns='item', values='baseline_estimate')\n"
      ]
    },
    {
      "cell_type": "markdown",
      "id": "63a2a9f1",
      "metadata": {},
      "source": [
        "Conclusion:\n",
        "The global baseline estimate by itself is not an accurate prediction method since the baseline(raw average) is the average rating across all users and items without considering individual preferences or item characteristics. However, it becomes useful when paired with other methods such as content-filtering. \n",
        "This is particularly helpful in addressing the cold-start problem, which is a common limitation in content-filtering where there is an insufficient user activity data available for analysis. The global baseline estimation provides a reasonable starting point for predictions when personalized data is yet available.\n",
        "Additionally, the global baseline estimation can also be improved through regularization, which helps to prevent overfitting by penalizing overly large user or item biases. This is controlled by a hyperparameter(lambda). Alternating least squares (ALS) is one of the such commonly method.\n",
        "\n",
        "RMSE or root mean squared error is a error measurement metrics typically used to evaluate the accuracy of prediction models. The lower the RMSE, the better the performance of the model because the predicted value is closer to the actual value. Typically, the training dataset will show lower RMSE than the test set because the model is directly fitted onto the training dataset. However, this is not always the case when the sample data size is small, such as the one used in this project. A small sample size has higher variance within the dataset and depending on how the dataset is split, the variance can change the outlook of the RMSE drastically. Also, certain the random_state values, which sets the seed for the splitting of the data, can also create a more biased splitting if the small size is small. So while this result may seem counterintuitive, it is not unusual with small or synthetic dataset. When using a larger, more representative dataset and appropriate random_state, the expected pattern of lower RMSE in training is generally true."
      ]
    }
  ],
  "metadata": {
    "colab": {
      "provenance": []
    },
    "kernelspec": {
      "display_name": "Python 3",
      "language": "python",
      "name": "python3"
    },
    "language_info": {
      "codemirror_mode": {
        "name": "ipython",
        "version": 3
      },
      "file_extension": ".py",
      "mimetype": "text/x-python",
      "name": "python",
      "nbconvert_exporter": "python",
      "pygments_lexer": "ipython3",
      "version": "3.9.13"
    }
  },
  "nbformat": 4,
  "nbformat_minor": 5
}
